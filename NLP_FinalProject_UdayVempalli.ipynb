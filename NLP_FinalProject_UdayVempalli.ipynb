{
 "cells": [
  {
   "cell_type": "code",
   "execution_count": 4,
   "id": "14ebebb5",
   "metadata": {},
   "outputs": [],
   "source": [
    "# open python and nltk packages needed for processing\n",
    "import os\n",
    "import sys\n",
    "import random\n",
    "import nltk\n",
    "from nltk.corpus import stopwords"
   ]
  },
  {
   "cell_type": "code",
   "execution_count": 5,
   "id": "0729bfdd",
   "metadata": {},
   "outputs": [],
   "source": [
    "# function to read spam and ham files, train and test a classifier \n",
    "def processspamham(dirPath,limitStr):\n",
    "  # convert the limit argument from a string to an int\n",
    "  limit = int(limitStr)\n",
    "  \n",
    "  # start lists for spam and ham email texts\n",
    "  hamtexts = []\n",
    "  spamtexts = []\n",
    "  os.chdir(dirPath)\n",
    "  # process all files in directory that end in .txt up to the limit\n",
    "  #    assuming that the emails are sufficiently randomized\n",
    "  for file in os.listdir(\"./spam\"):\n",
    "    if (file.endswith(\".txt\")) and (len(spamtexts) < limit):\n",
    "      # open file for reading and read entire file into a string\n",
    "      f = open(\"./spam/\"+file, 'r', encoding=\"latin-1\")\n",
    "      spamtexts.append (f.read())\n",
    "      f.close()\n",
    "  for file in os.listdir(\"./ham\"):\n",
    "    if (file.endswith(\".txt\")) and (len(hamtexts) < limit):\n",
    "      # open file for reading and read entire file into a string\n",
    "      f = open(\"./ham/\"+file, 'r', encoding=\"latin-1\")\n",
    "      hamtexts.append (f.read())\n",
    "      f.close()\n",
    "  \n",
    "  # print number emails read\n",
    "  #print (\"Number of spam files:\",len(spamtexts))\n",
    " # print (\"Number of ham files:\",len(hamtexts))\n",
    "  \n",
    "  \n",
    "  # create list of mixed spam and ham email documents as (list of words, label)\n",
    "  emaildocs = []\n",
    "  # add all the spam\n",
    "  for spam in spamtexts:\n",
    "    tokens = nltk.word_tokenize(spam)\n",
    "    emaildocs.append((tokens, 'spam'))\n",
    "  # add all the regular emails\n",
    "  for ham in hamtexts:\n",
    "    tokens = nltk.word_tokenize(ham)\n",
    "    emaildocs.append((tokens, 'ham'))\n",
    "  \n",
    "  # randomize the list\n",
    "  random.shuffle(emaildocs)\n",
    "  return emaildocs\n",
    "  # print a few token lists\n",
    "  #for email in emaildocs[:1]:   \n",
    "   # print (email)"
   ]
  },
  {
   "cell_type": "code",
   "execution_count": 6,
   "id": "909c481d",
   "metadata": {},
   "outputs": [],
   "source": [
    "direc = 'C:\\\\Users\\\\udayv\\\\Downloads\\\\FinalProject_Data_N\\\\FinalProjectData\\\\EmailSpamCorpora\\\\corpus'\n",
    "#passing the directory and the no of files to be picked up from it.\n",
    "res = processspamham(direc, 1000)\n"
   ]
  },
  {
   "cell_type": "code",
   "execution_count": 7,
   "id": "f1d6c640",
   "metadata": {},
   "outputs": [],
   "source": [
    "all_words_list = [word for (sent,cat) in res for word in res]"
   ]
  },
  {
   "cell_type": "code",
   "execution_count": 8,
   "id": "7c27378f",
   "metadata": {},
   "outputs": [],
   "source": [
    "new_list = []\n",
    "for x in all_words_list:\n",
    "    for i in x:\n",
    "        new_list.append(i)"
   ]
  },
  {
   "cell_type": "code",
   "execution_count": 9,
   "id": "2748faf7",
   "metadata": {},
   "outputs": [],
   "source": [
    "result = []\n",
    "for i in new_list:\n",
    "    for j in i:\n",
    "        if len(j) > 2 and j not in ('ham','spam','Subject'):\n",
    "            result.append(j)"
   ]
  },
  {
   "cell_type": "code",
   "execution_count": 10,
   "id": "d21f8d4d",
   "metadata": {},
   "outputs": [
    {
     "data": {
      "text/plain": [
       "FreqDist({'the': 18816000, 'ect': 10980000, 'and': 10032000, 'for': 7700000, 'you': 6926000, 'this': 5712000, 'hou': 5698000, 'your': 3802000, 'that': 3620000, '2000': 3410000, ...})"
      ]
     },
     "execution_count": 10,
     "metadata": {},
     "output_type": "execute_result"
    }
   ],
   "source": [
    "all_words = nltk.FreqDist(result)\n",
    "all_words"
   ]
  },
  {
   "cell_type": "code",
   "execution_count": 16,
   "id": "65344b8e",
   "metadata": {},
   "outputs": [
    {
     "name": "stdout",
     "output_type": "stream",
     "text": [
      "['the', 'ect', 'and', 'for', 'you', 'this', 'hou', 'your', 'that', '2000', 'enron', 'with', 'will', 'have', 'from', 'are', 'please', 'not', 'com', 'all', 'our', 'meter', 'subject', 'can', 'gas', 'deal', 'any', 'http', '000', 'has', 'corp', 'new', 'thanks', 'get', 'was', 'know', 'here', 'need', 'more', 'forwarded', 'out', 'only', 'may', 'daren', 'hpl', 'there', 'information', 'these', 'into', 'company', 'mmbtu', 'www', 'let', 'time', 'would', 'but', 'been', 'price', 'should', 'one', 'now', 'month', 'mail', 'contract', 'email', 'nbsp', 'sitara', 'what', 'see', 'which', 'day', 'also', 'they', 'volume', 'free', 'about', 'like', 'energy', 'deals', 'font', 'their', 'pills', 'change', 'some', 'ami', 'business', 'just', 'message', 'want', 'volumes', '2004', 'over', 'attached', 'other', 'xls', 'farmer', 'its', 'questions', 'who', 'contact']\n"
     ]
    }
   ],
   "source": [
    "# get the 3000 most frequently appearing keywords in the corpus\n",
    "word_items = all_words.most_common(1000)\n",
    "word_features = [word for (word,count) in word_items]\n",
    "print(word_features[:100])\n"
   ]
  },
  {
   "cell_type": "code",
   "execution_count": 17,
   "id": "ac89b22d",
   "metadata": {},
   "outputs": [],
   "source": [
    "# define features (keywords) of a document for a BOW/unigram baseline\n",
    "# each feature is 'contains(keyword)' and is true or false depending\n",
    "# on whether that keyword is in the document\n",
    "def document_features(document, word_features):\n",
    "    document_words = set(document)\n",
    "    features = {}\n",
    "    for word in word_features:\n",
    "        features['V_{}'.format(word)] = (word in document_words)\n",
    "    return features"
   ]
  },
  {
   "cell_type": "code",
   "execution_count": 18,
   "id": "c6160ba7",
   "metadata": {},
   "outputs": [],
   "source": [
    "# get features sets for a document, including keyword features and category feature\n",
    "featuresets = [(document_features(d, word_features), c) for (d, c) in res]"
   ]
  },
  {
   "cell_type": "code",
   "execution_count": 19,
   "id": "c949a980",
   "metadata": {},
   "outputs": [],
   "source": [
    "# training using naive Baysian classifier, training set is approximately 90% of data\n",
    "train_set, test_set = featuresets[100:], featuresets[:100]\n",
    "classifier = nltk.NaiveBayesClassifier.train(train_set)"
   ]
  },
  {
   "cell_type": "code",
   "execution_count": 20,
   "id": "19fb6c71",
   "metadata": {},
   "outputs": [
    {
     "data": {
      "text/plain": [
       "0.96"
      ]
     },
     "execution_count": 20,
     "metadata": {},
     "output_type": "execute_result"
    }
   ],
   "source": [
    "# evaluate the accuracy of the classifier\n",
    "nltk.classify.accuracy(classifier, test_set)\n"
   ]
  },
  {
   "cell_type": "markdown",
   "id": "7ccf3425",
   "metadata": {},
   "source": [
    "## Filtering by Stop Words\n"
   ]
  },
  {
   "cell_type": "code",
   "execution_count": 21,
   "id": "e833326a",
   "metadata": {},
   "outputs": [
    {
     "data": {
      "text/plain": [
       "179"
      ]
     },
     "execution_count": 21,
     "metadata": {},
     "output_type": "execute_result"
    }
   ],
   "source": [
    "stopwords = nltk.corpus.stopwords.words('english')\n",
    "len(stopwords)"
   ]
  },
  {
   "cell_type": "code",
   "execution_count": 22,
   "id": "6bbb7c19",
   "metadata": {},
   "outputs": [],
   "source": [
    "# this list of additional stop words includes some other words like hardly and rarely\n",
    "additionalstopwords = ['no', 'not', 'never', 'none', 'nowhere', 'nothing', 'noone', 'rather', 'hardly', \n",
    "                 'scarcely', 'rarely', 'seldom', 'neither', 'nor']"
   ]
  },
  {
   "cell_type": "code",
   "execution_count": 23,
   "id": "f6d72886",
   "metadata": {},
   "outputs": [
    {
     "data": {
      "text/plain": [
       "176"
      ]
     },
     "execution_count": 23,
     "metadata": {},
     "output_type": "execute_result"
    }
   ],
   "source": [
    "newstopwords = [word for word in stopwords if word not in additionalstopwords]\n",
    "len(newstopwords)\n",
    "#newstopwords"
   ]
  },
  {
   "cell_type": "code",
   "execution_count": 24,
   "id": "4b9a21b5",
   "metadata": {},
   "outputs": [
    {
     "data": {
      "text/plain": [
       "523866000"
      ]
     },
     "execution_count": 24,
     "metadata": {},
     "output_type": "execute_result"
    }
   ],
   "source": [
    "len(result)"
   ]
  },
  {
   "cell_type": "code",
   "execution_count": null,
   "id": "6d9f7c6b",
   "metadata": {},
   "outputs": [],
   "source": [
    "new_all_words_list = [word for word in result if word not in newstopwords]\n",
    "len(new_all_words_list)"
   ]
  },
  {
   "cell_type": "code",
   "execution_count": 23,
   "id": "87db09a7",
   "metadata": {},
   "outputs": [
    {
     "data": {
      "text/plain": [
       "36469"
      ]
     },
     "execution_count": 23,
     "metadata": {},
     "output_type": "execute_result"
    }
   ],
   "source": [
    "new_all_words = nltk.FreqDist(new_all_words_list)\n",
    "len(new_all_words)"
   ]
  },
  {
   "cell_type": "code",
   "execution_count": null,
   "id": "7c8a17e8",
   "metadata": {},
   "outputs": [],
   "source": [
    "new_word_items = new_all_words.most_common(2000)"
   ]
  },
  {
   "cell_type": "code",
   "execution_count": null,
   "id": "3808c137",
   "metadata": {},
   "outputs": [],
   "source": [
    "new_word_features = [word for (word,count) in new_word_items]"
   ]
  },
  {
   "cell_type": "code",
   "execution_count": null,
   "id": "fb193eeb",
   "metadata": {},
   "outputs": [],
   "source": [
    "print(new_word_features[:50])"
   ]
  },
  {
   "cell_type": "code",
   "execution_count": 27,
   "id": "28a98b54",
   "metadata": {},
   "outputs": [],
   "source": [
    "# get features sets for a document, including keyword features and category feature\n",
    "featuresetsWithStop = [(document_features(d, new_word_features), c) for (d, c) in res]"
   ]
  },
  {
   "cell_type": "code",
   "execution_count": 28,
   "id": "8bcc31fe",
   "metadata": {},
   "outputs": [],
   "source": [
    "# training using naive Baysian classifier, training set is approximately 90% of data\n",
    "train_set, test_set = featuresetsWithStop[100:], featuresetsWithStop[:100]\n",
    "classifier    = nltk.NaiveBayesClassifier.train(train_set)"
   ]
  },
  {
   "cell_type": "code",
   "execution_count": 29,
   "id": "d34cdca2",
   "metadata": {},
   "outputs": [
    {
     "data": {
      "text/plain": [
       "0.95"
      ]
     },
     "execution_count": 29,
     "metadata": {},
     "output_type": "execute_result"
    }
   ],
   "source": [
    "# evaluate the accuracy of the classifier\n",
    "nltk.classify.accuracy(classifier, test_set)"
   ]
  },
  {
   "cell_type": "markdown",
   "id": "39bd7c24",
   "metadata": {},
   "source": [
    "## Experimenting with Bigraphs"
   ]
  },
  {
   "cell_type": "code",
   "execution_count": 30,
   "id": "c728bed2",
   "metadata": {},
   "outputs": [],
   "source": [
    "####   adding Bigram features   ####\n",
    "from nltk.collocations import *\n",
    "bigram_measures = nltk.collocations.BigramAssocMeasures()"
   ]
  },
  {
   "cell_type": "code",
   "execution_count": 31,
   "id": "96d9872b",
   "metadata": {},
   "outputs": [],
   "source": [
    "finder = BigramCollocationFinder.from_words(result)"
   ]
  },
  {
   "cell_type": "code",
   "execution_count": 32,
   "id": "c0d53d06",
   "metadata": {},
   "outputs": [],
   "source": [
    "bigram_features = finder.nbest(bigram_measures.chi_sq, 500)"
   ]
  },
  {
   "cell_type": "code",
   "execution_count": 33,
   "id": "ccda4681",
   "metadata": {},
   "outputs": [],
   "source": [
    "# define features that include words as before \n",
    "# add the most frequent significant bigrams\n",
    "# this function takes the list of words in a document as an argument and returns a feature dictionary\n",
    "# it depends on the variables word_features and bigram_features\n",
    "def bigram_document_features(document, word_features, bigram_features):\n",
    "    document_words = set(document)\n",
    "    document_bigrams = nltk.bigrams(document)\n",
    "    features = {}\n",
    "    for word in word_features:\n",
    "        features['V_{}'.format(word)] = (word in document_words)\n",
    "    for bigram in bigram_features:\n",
    "        features['B_{}_{}'.format(bigram[0], bigram[1])] = (bigram in document_bigrams)    \n",
    "    return features"
   ]
  },
  {
   "cell_type": "code",
   "execution_count": 34,
   "id": "6b0286f3",
   "metadata": {},
   "outputs": [],
   "source": [
    "# use this function to create feature sets for all sentences\n",
    "bigram_featuresets = [(bigram_document_features(d, word_features, bigram_features), c) for (d, c) in res]"
   ]
  },
  {
   "cell_type": "code",
   "execution_count": 35,
   "id": "041b82d7",
   "metadata": {},
   "outputs": [
    {
     "name": "stdout",
     "output_type": "stream",
     "text": [
      "3500\n"
     ]
    }
   ],
   "source": [
    "# number of features for document 0\n",
    "print(len(bigram_featuresets[0][0].keys()))"
   ]
  },
  {
   "cell_type": "code",
   "execution_count": 36,
   "id": "88100d6d",
   "metadata": {},
   "outputs": [
    {
     "name": "stdout",
     "output_type": "stream",
     "text": [
      "{'V_the': True, 'V_ect': False, 'V_and': False, 'V_for': True, 'V_you': False, 'V_this': False, 'V_hou': False, 'V_your': False, 'V_that': False, 'V_2000': False, 'V_enron': False, 'V_with': False, 'V_will': False, 'V_have': False, 'V_from': False, 'V_are': False, 'V_please': False, 'V_not': False, 'V_com': False, 'V_all': False, 'V_our': False, 'V_subject': False, 'V_meter': False, 'V_can': False, 'V_gas': False, 'V_deal': False, 'V_any': False, 'V_http': False, 'V_000': False, 'V_has': False, 'V_corp': False, 'V_new': False, 'V_thanks': False, 'V_get': False, 'V_was': False, 'V_know': False, 'V_here': False, 'V_need': False, 'V_more': False, 'V_forwarded': False, 'V_out': False, 'V_only': False, 'V_may': False, 'V_daren': False, 'V_hpl': False, 'V_there': False, 'V_information': False, 'V_these': False, 'V_into': False, 'V_company': False, 'V_mmbtu': False, 'V_www': False, 'V_let': False, 'V_time': False, 'V_would': False, 'V_but': False, 'V_been': False, 'V_price': False, 'V_one': False, 'V_should': False, 'V_now': False, 'V_month': False, 'V_mail': False, 'V_contract': False, 'V_email': False, 'V_nbsp': False, 'V_sitara': True, 'V_what': False, 'V_see': False, 'V_which': False, 'V_day': False, 'V_also': False, 'V_volume': True, 'V_they': False, 'V_about': False, 'V_free': False, 'V_like': False, 'V_energy': False, 'V_deals': False, 'V_font': False, 'V_their': False, 'V_pills': False, 'V_some': False, 'V_change': False, 'V_ami': False, 'V_business': False, 'V_just': False, 'V_message': False, 'V_want': False, 'V_volumes': False, 'V_2004': False, 'V_over': False, 'V_attached': False, 'V_other': False, 'V_farmer': False, 'V_xls': False, 'V_its': False, 'V_questions': False, 'V_contact': False, 'V_who': False, 'V_when': False, 'V_make': False, 'V_width': False, 'V_report': False, 'V_call': False, 'V_list': False, 'V_click': False, 'V_back': False, 'V_money': False, 'V_100': False, 'V_texas': False, 'V_could': False, 'V_nom': False, 'V_set': False, 'V_chokshi': False, 'V_inc': False, 'V_robert': False, 'V_height': False, 'V_order': False, 'V_following': False, 'V_how': False, 'V_production': False, 'V_forward': False, 'V_below': False, 'V_them': False, 'V_january': False, 'V_per': False, 'V_march': False, 'V_today': False, 'V_statements': False, 'V_best': False, 'V_sale': True, 'V_number': False, 'V_ena': False, 'V_available': False, 'V_first': False, 'V_through': False, 'V_system': False, 'V_take': False, 'V_align': False, 'V_sent': False, 'V_were': False, 'V_she': False, 'V_help': False, 'V_don': False, 'V_days': False, 'V_management': False, 'V_stock': False, 'V_jackie': False, 'V_online': False, 'V_june': False, 'V_changes': False, 'V_ticket': False, 'V_size': False, 'V_within': False, 'V_flow': False, 'V_border': False, 'V_info': False, 'V_last': False, 'V_well': False, 'V_group': False, 'V_than': False, 'V_most': False, 'V_service': False, 'V_gary': False, 'V_address': False, 'V_next': False, 'V_team': False, 'V_had': False, 'V_transport': False, 'V_pec': False, 'V_effective': False, 'V_his': False, 'V_work': False, 'V_each': False, 'V_color': False, 'V_april': False, 'V_due': False, 'V_face': False, 'V_account': False, 'V_use': False, 'V_sales': False, 'V_looking': False, 'V_buy': False, 'V_nomination': False, 'V_many': False, 'V_office': False, 'V_without': False, 'V_offer': False, 'V_after': False, 'V_microsoft': False, 'V_net': False, 'V_week': False, 'V_services': False, 'V_name': False, 'V_prices': False, 'V_same': False, 'V_before': False, 'V_because': False, 'V_year': False, 'V_save': False, 'V_feb': False, 'V_delivery': False, 'V_line': False, 'V_send': False, 'V_link': False, 'V_thank': False, 'V_special': False, 'V_aimee': False, 'V_desk': False, 'V_date': False, 'V_million': False, 'V_being': False, 'V_file': False, 'V_href': False, 'V_investment': False, 'V_src': False, 'V_off': False, 'V_products': False, 'V_made': False, 'V_pat': False, 'V_future': False, 'V_needs': False, 'V_where': False, 'V_then': False, 'V_software': False, 'V_161': False, 'V_give': False, 'V_two': False, 'V_steve': False, 'V_above': False, 'V_windows': False, 'V_meeting': False, 'V_process': False, 'V_based': False, 'V_120': False, 'V_place': False, 'V_does': False, 'V_data': False, 'V_stop': False, 'V_jan': False, 'V_marketing': False, 'V_viagra': False, 'V_did': False, 'V_good': False, 'V_george': False, 'V_computron': False, 'V_check': False, 'V_tom': False, 'V_very': False, 'V_internet': False, 'V_such': False, 'V_professional': False, 'V_people': False, 'V_look': False, 'V_securities': False, 'V_hplc': False, 'V_anita': False, 'V_america': False, 'V_julie': False, 'V_find': False, 'V_receive': False, 'V_site': False, 'V_down': False, 'V_under': False, 'V_reply': False, 'V_risk': False, 'V_february': False, 'V_mary': False, 'V_international': False, 'V_market': False, 'V_susan': False, 'V_world': False, 'V_since': False, 'V_tickets': False, 'V_meters': False, 'V_much': False, 'V_sure': False, 'V_howard': False, 'V_those': False, 'V_provide': False, 'V_home': False, 'V_purchase': False, 'V_young': False, 'V_rates': False, 'V_pipeline': False, 'V_high': False, 'V_unify': False, 'V_brenda': False, 'V_her': False, 'V_development': False, 'V_smith': False, 'V_visit': False, 'V_north': False, 'V_center': False, 'V_both': False, 'V_right': False, 'V_again': False, 'V_request': False, 'V_problem': False, 'V_great': False, 'V_activity': False, 'V_point': False, 'V_financial': False, 'V_total': False, 'V_product': False, 'V_needed': False, 'V_operations': False, 'V_companies': False, 'V_2003': False, 'V_end': False, 'V_meds': False, 'V_friday': False, 'V_still': False, 'V_less': False, 'V_lisa': False, 'V_issue': False, 'V_1999': False, 'V_show': False, 'V_daily': False, 'V_713': False, 'V_plant': False, 'V_low': False, 'V_stephanie': False, 'V_note': False, 'V_noms': False, 'V_must': False, 'V_news': False, 'V_keep': False, 'V_quality': False, 'V_html': False, 'V_full': False, 'V_trading': False, 'V_revised': False, 'V_transaction': False, 'V_support': False, 'V_rate': False, 'V_lloyd': False, 'V_index': False, 'V_own': False, 'V_adobe': False, 'V_entex': False, 'V_ces': False, 'V_copy': False, 'V_security': False, 'V_prescription': False, 'V_additional': False, 'V_once': False, 'V_performance': False, 'V_paliourg': False, 'V_issues': False, 'V_global': False, 'V_currently': False, 'V_camp': False, 'V_increase': False, 'V_offers': False, 'V_remove': False, 'V_fred': False, 'V_long': False, 'V_pops': False, 'V_think': False, 'V_numbers': False, 'V_agreement': False, 'V_further': False, 'V_going': False, 'V_via': False, 'V_herod': False, 'V_hours': False, 'V_every': False, 'V_come': False, 'V_until': False, 'V_bob': False, 'V_fyi': False, 'V_500': False, 'V_access': False, 'V_bgcolor': False, 'V_used': False, 'V_luong': False, 'V_put': True, 'V_sell': False, 'V_someone': False, 'V_months': False, 'V_prior': False, 'V_position': False, 'V_using': False, 'V_while': False, 'V_stella': False, 'V_control': False, 'V_review': False, 'V_dollars': False, 'V_clynes': False, 'V_working': False, 'V_done': False, 'V_part': False, 'V_midcon': False, 'V_eastrans': False, 'V_possible': False, 'V_contracts': False, 'V_believe': False, 'V_notice': False, 'V_soon': False, 'V_details': False, 'V_start': False, 'V_act': False, 'V_results': False, 'V_limited': False, 'V_counterparty': False, 'V_received': False, 'V_michael': False, 'V_cialis': False, 'V_accounting': False, 'V_allen': False, 'V_content': False, 'V_pay': False, 'V_health': False, 'V_biz': False, 'V_pro': False, 'V_works': False, 'V_charlotte': False, 'V_web': False, 'V_meyers': False, 'V_required': False, 'V_weight': False, 'V_brian': False, 'V_project': False, 'V_duke': False, 'V_storage': False, 'V_life': False, 'V_even': False, 'V_newsletter': False, 'V_strong': False, 'V_cash': False, 'V_got': False, 'V_stacey': False, 'V_retail': False, 'V_jpg': False, 'V_124': False, 'V_natural': False, 'V_survey': False, 'V_customer': False, 'V_scott': False, 'V_current': False, 'V_correct': False, 'V_reports': False, 'V_monday': False, 'V_power': False, 'V_real': False, 'V_dec': False, 'V_fax': False, 'V_ranch': False, 'V_during': False, 'V_manager': False, 'V_section': False, 'V_loss': False, 'V_phone': False, 'V_thu': False, 'V_resources': False, 'V_easy': False, 'V_including': False, 'V_allocated': False, 'V_east': False, 'V_interest': False, 'V_type': False, 'V_why': False, 'V_feel': False, 'V_carthage': False, 'V_private': False, 'V_hsc': False, 'V_stocks': False, 'V_vance': False, 'V_commercial': False, 'V_advice': False, 'V_top': False, 'V_follow': False, 'V_gif': False, 'V_000000': False, 'V_way': False, 'V_july': False, 'V_scheduled': False, 'V_never': False, 'V_able': False, 'V_moopid': False, 'V_hotlist': False, 'V_complete': False, 'V_cost': False, 'V_city': False, 'V_corporation': False, 'V_getting': False, 'V_drugs': False, 'V_read': False, 'V_pain': False, 'V_lannou': False, 'V_div': False, 'V_oil': False, 'V_costs': False, 'V_move': False, 'V_houston': False, 'V_page': False, 'V_however': False, 'V_include': False, 'V_removed': False, 'V_program': False, 'V_old': False, 'V_man': False, 'V_receipt': False, 'V_body': False, 'V_release': False, 'V_table': False, 'V_tuesday': False, 'V_said': False, 'V_too': False, 'V_david': False, 'V_provided': False, 'V_valid': False, 'V_taylor': False, 'V_country': False, 'V_mar': False, 'V_open': False, 'V_xanax': False, 'V_form': False, 'V_try': False, 'V_necessary': False, 'V_error': False, 'V_htmlimg': False, 'V_shipping': False, 'V_anything': False, 'V_suite': False, 'V_calls': False, 'V_better': False, 'V_another': False, 'V_past': False, 'V_continue': False, 'V_update': False, 'V_buyback': False, 'V_book': False, 'V_clear': False, 'V_images': False, 'V_third': False, 'V_party': False, 'V_regarding': False, 'V_systems': False, 'V_zero': False, 'V_ever': False, 'V_bryan': False, 'V_original': False, 'V_cotton': False, 'V_200': False, 'V_source': False, 'V_investing': False, 'V_yet': False, 'V_super': False, 'V_regards': False, 'V_mark': False, 'V_between': False, 'V_united': False, 'V_melissa': False, 'V_add': False, 'V_valium': False, 'V_always': False, 'V_fuels': False, 'V_morning': False, 'V_flowed': False, 'V_path': False, 'V_everything': False, 'V_something': False, 'V_ken': False, 'V_few': False, 'V_everyone': False, 'V_application': False, 'V_215': False, 'V_love': False, 'V_lst': False, 'V_800': False, 'V_300': False, 'V_fill': False, 'V_ensure': False, 'V_term': False, 'V_three': False, 'V_case': False, 'V_box': False, 'V_img': False, 'V_found': False, 'V_jennifer': False, 'V_shares': False, 'V_charge': False, 'V_sally': False, 'V_department': False, 'V_cheap': False, 'V_valley': False, 'V_zone': False, 'V_either': False, 'V_estimates': False, 'V_cause': False, 'V_left': False, 'V_transfer': False, 'V_server': False, 'V_php': False, 'V_south': False, 'V_encina': False, 'V_technology': False, 'V_aol': False, 'V_mobile': False, 'V_already': False, 'V_hanks': False, 'V_duty': False, 'V_music': False, 'V_late': False, 'V_close': False, 'V_yourself': False, 'V_wish': False, 'V_public': False, 'V_acton': False, 'V_weekend': False, 'V_communications': False, 'V_little': False, 'V_equistar': False, 'V_drive': False, 'V_different': False, 'V_quick': False, 'V_industry': False, 'V_trade': False, 'V_fact': False, 'V_years': False, 'V_sherlyn': False, 'V_direct': False, 'V_created': False, 'V_john': False, 'V_field': False, 'V_customers': False, 'V_second': False, 'V_head': False, 'V_photoshop': False, 'V_browser': False, 'V_pricing': False, 'V_thomas': False, 'V_text': False, 'V_around': False, 'V_states': False, 'V_morris': False, 'V_longer': False, 'V_credit': False, 'V_anyone': False, 'V_side': False, 'V_gco': False, 'V_generic': False, 'V_lose': False, 'V_worldwide': False, 'V_registered': False, 'V_devon': False, 'V_canada': False, 'V_problems': False, 'V_really': False, 'V_reliantenergy': False, 'V_publisher': False, 'V_view': False, 'V_remember': False, 'V_play': False, 'V_fuel': False, 'V_him': False, 'V_else': False, 'V_december': False, 'V_methanol': False, 'V_soft': False, 'V_sold': False, 'V_james': False, 'V_unsubscribe': False, 'V_hey': False, 'V_paste': False, 'V_men': False, 'V_etc': False, 'V_ees': False, 'V_012': False, 'V_major': False, 'V_wanted': False, 'V_gcs': False, 'V_cec': False, 'V_withers': False, 'V_lauri': False, 'V_press': False, 'V_schedule': False, 'V_actual': False, 'V_fund': False, 'V_logistics': False, 'V_plan': False, 'V_person': False, 'V_family': False, 'V_boas': False, 'V_reason': False, 'V_gomes': False, 'V_thursday': False, 'V_dear': False, 'V_secure': False, 'V_hawkins': False, 'V_version': False, 'V_beaumont': False, 'V_swing': False, 'V_graves': False, 'V_features': False, 'V_reveffo': False, 'V_key': False, 'V_growth': False, 'V_small': False, 'V_compliance': False, 'V_plus': False, 'V_training': False, 'V_bank': False, 'V_personal': False, 'V_user': False, 'V_allow': False, 'V_allocation': False, 'V_ali': False, 'V_medications': False, 'V_area': False, 'V_hard': False, 'V_solution': False, 'V_material': False, 'V_kind': False, 'V_president': False, 'V_level': False, 'V_teco': False, 'V_darial': False, 'V_spot': False, 'V_lee': False, 'V_kenneth': False, 'V_trevino': False, 'V_shut': False, 'V_approximately': False, 'V_mid': False, 'V_carlos': False, 'V_bill': False, 'V_download': False, 'V_legal': False, 'V_learn': False, 'V_meet': False, 'V_rita': False, 'V_valero': False, 'V_0310041': False, 'V_king': False, 'V_tell': False, 'V_therefore': False, 'V_sex': False, 'V_aware': False, 'V_nominations': False, 'V_making': False, 'V_network': False, 'V_doctor': False, 'V_might': False, 'V_prize': False, 'V_hope': False, 'V_updated': False, 'V_thing': False, 'V_experience': False, 'V_amount': False, 'V_supply': False, 'V_property': False, 'V_imbalance': False, 'V_called': False, 'V_cds': False, 'V_cut': False, 'V_panenergy': False, 'V_begin': False, 'V_events': False, 'V_wellhead': False, 'V_things': False, 'V_paid': False, 'V_several': False, 'V_weeks': False, 'V_interested': False, 'V_addition': False, 'V_latest': False, 'V_expected': True, 'V_approved': False, 'V_whole': False, 'V_directly': False, 'V_shows': False, 'V_options': False, 'V_safe': False, 'V_dave': False, 'V_related': False, 'V_china': False, 'V_iit': False, 'V_demokritos': False, 'V_hello': False, 'V_neuweiler': False, 'V_yvette': False, 'V_title': False, 'V_tina': False, 'V_971': False, 'V_federal': False, 'V_gold': False, 'V_0424040': False, 'V_ftar': False, 'V_status': False, 'V_doing': False, 'V_create': False, 'V_confirm': False, 'V_fast': False, 'V_thru': False, 'V_bridge': False, 'V_letter': False, 'V_given': False, 'V_research': False, 'V_understand': False, 'V_thought': False, 'V_feedback': False, 'V_starting': False, 'V_large': False, 'V_pipe': False, 'V_enough': False, 'V_away': False, 'V_having': False, 'V_exchange': False, 'V_words': False, 'V_effort': False, 'V_yahoo': False, 'V_follows': False, 'V_firm': False, 'V_exxon': False, 'V_takes': False, 'V_monthly': False, 'V_kimberly': False, 'V_egmnom': False, 'V_gathering': False, 'V_understanding': False, 'V_josey': False, 'V_action': False, 'V_brand': False, 'V_ability': False, 'V_operating': False, 'V_pharmacy': False, 'V_9497': False, 'V_others': False, 'V_computer': False, 'V_fat': False, 'V_vicodin': False, 'V_dvd': False, 'V_wide': False, 'V_soma': False, 'V_wynne': False, 'V_listing': False, 'V_wednesday': False, 'V_changed': False, 'V_receiving': False, 'V_exploration': False, 'V_0986725': False, 'V_requested': False, 'V_cover': False, 'V_voice': False, 'V_advise': False, 'V_requirements': False, 'V_usa': False, 'V_megan': False, 'V_enter': False, 'V_period': False, 'V_say': False, 'V_assistance': False, 'V_ship': False, 'V_rest': False, 'V_bruce': False, 'V_relief': False, 'V_shipped': False, 'V_ltd': False, 'V_expense': False, 'V_valadez': False, 'V_card': False, 'V_revision': False, 'V_union': False, 'V_distribution': False, 'V_entered': False, 'V_cheryl': False, 'V_run': False, 'V_asap': False, 'V_says': False, 'V_nothing': False, 'V_prc': False, 'V_oasis': False, 'V_estimate': False, 'V_asked': False, 'V_offering': False, 'V_william': False, 'V_times': False, 'V_recent': False, 'V_shall': False, 'V_watch': False, 'V_actuals': False, 'V_katherine': False, 'V_hotmail': False, 'V_nominated': False, 'V_members': False, 'V_donna': False, 'V_potential': False, 'V_specials': False, 'V_gra': False, 'V_redeliveries': False, 'V_fontfont': False, 'V_1226030': False, 'V_overnight': False, 'V_response': False, 'V_corel': False, 'V_items': False, 'V_code': False, 'V_deliveries': False, 'V_processing': False, 'V_revenue': False, 'V_selected': False, 'V_website': False, 'V_eol': False, 'V_reflect': False, 'V_settlements': False, 'V_door': False, 'V_jim': False, 'V_air': False, 'V_invoices': False, 'V_usb': False, 'V_holmes': False, 'V_track': False, 'V_sorry': False, 'V_intended': False, 'V_nguyen': False, 'V_connor': False, 'V_probably': False, 'V_tomorrow': False, 'V_availability': False, 'V_media': False, 'V_macromedia': False, 'V_listed': False, 'V_taken': False, 'V_troy': False, 'V_expectations': False, 'V_heidi': False, 'V_sincerely': False, 'V_assist': False, 'V_cellpadding': False, 'V_taking': False, 'V_colspan': False, 'V_golf': False, 'V_profile': False, 'V_style': False, 'V_texaco': False, 'V_crow': False, 'V_passed': False, 'V_beginning': False, 'V_unit': False, 'V_weissman': False, 'V_includes': False, 'V_big': False, 'V_publication': False, 'V_short': False, 'V_age': False, 'V_involve': False, 'V_thousand': False, 'V_mtr': False, 'V_multiple': False, 'V_htm': False, 'V_story': False, 'V_2002': False, 'V_afternoon': False, 'V_mobil': False, 'V_format': False, 'V_mike': False, 'V_immediately': False, 'V_balance': False, 'V_central': False, 'V_exactly': False, 'V_chance': False, 'V_seaman': False, 'V_doesn': False, 'V_force': False, 'V_share': False, 'V_write': False, 'V_hot': False, 'V_portfolio': False, 'V_medical': False, 'V_transactions': False, 'V_capital': False, 'V_present': False, 'V_gmt': False, 'V_handle': False, 'V_instructions': False, 'V_together': False, 'V_employee': False, 'V_success': False, 'V_tejas': False, 'V_leth': False, 'V_dealer': False, 'V_rolex': False, 'V_design': False, 'V_confirmed': False, 'V_government': False, 'V_image': False, 'V_choose': False, 'V_join': False, 'V_target': False, 'V_upon': False, 'V_important': False, 'V_certain': False, 'V_director': False, 'V_five': False, 'V_hplo': False, 'V_schumack': False, 'V_allocate': False, 'V_model': False, 'V_included': False, 'V_101': False, 'V_tel': False, 'V_enjoy': False, 'V_hull': False, 'V_vaughn': False, 'V_doc': False, 'V_database': False, 'V_attention': False, 'V_mentioned': False, 'V_donald': False, 'V_front': False, 'V_discount': False, 'V_non': False, 'V_staff': False, 'V_guarantee': False, 'V_risks': False, 'V_terms': False, 'V_gift': False, 'V_corporate': False, 'V_vacation': False, 'V_scheduling': False, 'V_employees': False, 'V_base': False, 'V_talk': False, 'V_grant': False, 'V_entire': False, 'V_respective': False, 'V_resume': False, 'V_cdnow': False, 'V_texoma': False, 'V_fixed': False, 'V_documents': False, 'V_considered': False, 'V_shown': False, 'V_won': False, 'V_password': False, 'V_missing': False, 'V_discuss': False, 'V_copano': False, 'V_accounts': False, 'V_wants': False, 'V_usage': False, 'V_payment': False, 'V_edition': False, 'V_instant': False, 'V_savings': False, 'V_referenced': False, 'V_guaranteed': False, 'V_friends': False, 'V_impact': False, 'V_worth': False, 'V_officer': False, 'V_interconnect': False, 'V_value': False, 'V_points': False, 'V_travel': False, 'V_hplr': False, 'V_women': False, 'V_wireless': False, 'V_activities': False, 'V_citibank': False, 'V_600': False, 'V_mills': False, 'V_showing': False, 'V_suggestions': False, 'V_notes': False, 'V_answer': False, 'V_invoice': False, 'V_question': False, 'V_known': False, 'V_emails': False, 'V_went': False, 'V_channel': False, 'V_express': False, 'V_differ': False, 'V_claim': False, 'V_minutes': False, 'V_black': False, 'V_spain': False, 'V_leave': False, 'V_greg': False, 'V_richard': False, 'V_confirmation': False, 'V_sexual': False, 'V_green': False, 'V_assets': False, 'V_plain': False, 'V_live': False, 'V_mcmills': False, 'V_pefs': False, 'V_welcome': False, 'V_reference': False, 'V_mind': False, 'V_producer': False, 'V_bit': False, 'V_allocations': False, 'V_provides': False, 'V_benoit': False, 'V_investors': False, 'V_meaning': False, 'V_sec': False, 'V_perfect': False, 'V_ask': False, 'V_summer': False, 'V_draw': False, 'V_industrial': False, 'V_vlt': False, 'V_hear': False, 'V_popular': False, 'V_lowest': False, 'V_mops': False, 'V_white': False, 'V_superty': False, 'V_janet': False, 'V_fee': False, 'V_class': False, 'V_cilco': False, 'V_alt': False, 'V_invitation': False, 'V_abdv': False, 'V_pathed': False, 'V_105': False, 'V_6757': False, 'V_sofftwaares': False, 'V_normal': False, 'V_member': False, 'V_trying': False, 'V_told': False, 'V_november': False, 'V_nov': False, 'V_2005': False, 'V_associated': False, 'V_turn': False, 'V_applications': False, 'V_become': False, 'V_bad': False, 'V_assignment': False, 'V_149': False, 'V_least': False, 'V_comes': False, 'V_ago': False, 'V_state': False, 'V_plans': False, 'V_uncertainties': False, 'V_identified': False, 'V_basis': False, 'V_flowing': False, 'V_promotions': False, 'V_records': False, 'V_ordering': False, 'V_agent': False, 'V_female': False, 'V_mailing': False, 'V_transportation': False, 'V_yesterday': False, 'V_father': False, 'V_lot': False, 'V_diamond': False, 'V_juno': False, 'V_resolved': False, 'V_lots': False, 'V_verdana': False, 'V_capacity': False, 'V_registration': False, 'V_katy': False, 'V_job': False, 'V_gain': False, 'V_creative': False, 'V_highly': False, 'V_5192': False, 'V_mining': False, 'V_select': False, 'V_verify': False, 'V_spreadsheet': False, 'V_reduction': False, 'V_281': False, 'V_kcs': False, 'V_sarco': False, 'V_simply': False, 'V_dell': False, 'V_various': False, 'V_coming': False, 'V_titles': False, 'V_flash': False, 'V_businesses': False, 'V_build': False, 'V_stay': False, 'V_general': False, 'V_phentermine': False, 'V_yes': False, 'V_wife': False, 'V_happy': False, 'V_true': False, 'V_history': False, 'V_6353': False, 'V_didn': False, 'V_penis': False, 'V_tax': False, 'V_completed': False, 'V_category': False, 'V_sum': False, 'V_kelly': False, 'V_muscle': False, 'V_jeff': False, 'V_wait': False, 'V_kevin': False, 'V_lateral': False, 'V_outstanding': False, 'V_return': False, 'V_outage': False, 'V_liquids': False, 'V_correctly': False, 'V_ibm': False, 'V_nominate': False, 'V_fwd': False, 'V_delivered': False, 'V_expect': False, 'V_gpgfin': False, 'V_valign': False, 'V_hottlist': False, 'V_quickly': False, 'V_arrangements': False, 'V_orders': False, 'V_national': False, 'V_running': False, 'V_belize': False, 'V_cousino': False, 'V_recently': False, 'V_require': False, 'V_moved': False, 'V_bought': False, 'V_final': False, 'V_iferc': False, 'V_linda': False, 'V_digital': False, 'V_location': False, 'V_robin': False, 'V_sea': False, 'V_discussed': False, 'V_otcbb': False, 'V_400': False, 'V_respect': False, 'V_believes': False, 'V_invest': False, 'V_readers': False, 'V_featured': False, 'V_four': False, 'V_alert': False, 'V_huge': False, 'V_early': False, 'V_means': False, 'V_increased': False, 'V_solid': False, 'V_discussion': False, 'V_goes': False, 'V_csikos': False, 'V_brent': False, 'V_wilson': False, 'V_decided': False, 'V_kim': False, 'V_appropriate': False, 'V_evergreen': False, 'V_initial': False, 'V_cellspacing': False, 'V_partner': False, 'V_owners': False, 'V_canon': False, 'V_dosage': False, 'V_car': False, 'V_sign': False, 'V_indicate': False, 'V_technologies': False, 'V_papayoti': False, 'V_half': False, 'V_studio': False, 'V_expires': False, 'V_rnd': False, 'V_girls': False, 'V_royal': False, 'V_simple': False, 'V_broker': False, 'V_1933': False, 'V_engage': False, 'V_dfarmer': False, 'V_guys': False, 'V_held': False, 'V_foreign': False, 'V_later': False, 'V_anti': False, 'V_fine': False, 'V_usd': False, 'V_edward': False, 'V_ready': False, 'V_bring': False, 'V_transition': False, 'V_efforts': False, 'V_koch': False, 'V_spring': False, 'V_paper': False, 'V_extend': False, 'V_local': False, 'V_financing': False, 'V_pop': False, 'V_middle': False, 'V_involved': False, 'V_investor': False, 'V_intel': False, 'V_teams': False, 'V_matter': False, 'V_waiting': False, 'V_happen': False, 'V_exclusive': False, 'V_brandywine': False, 'V_notify': False, 'V_rev': False, 'V_lake': False, 'V_messages': False, 'V_avoid': False, 'V_intercompany': False, 'V_cable': False, 'V_solmonson': False, 'V_search': False, 'V_oem': False, 'V_movies': False, 'V_affiliate': False, 'V_prozac': False, 'V_contains': False, 'V_projections': False, 'V_presently': False, 'V_subscribers': False, 'V_inform': False, 'V_funds': False, 'V_enterprise': False, 'V_unlimited': False, 'V_clearance': False, 'V_arrangement': False, 'V_role': False, 'V_laptop': False, 'V_took': False, 'V_came': False, 'V_medication': False, 'V_reach': False, 'V_course': False, 'V_husband': False, 'V_along': False, 'V_road': False, 'V_ffffff': False, 'V_appreciate': False, 'V_export': False, 'V_care': False, 'V_rodriguez': False, 'V_cia': False, 'V_eric': False, 'V_markets': False, 'V_darren': False, 'V_updates': False, 'V_active': False, 'V_calling': False, 'V_instead': False, 'V_pill': False, 'V_hold': False, 'V_loading': False, 'V_petroleum': False, 'V_rivers': False, 'V_graphics': False, 'V_friend': False, 'V_video': False, 'V_powerful': False, 'V_specific': False, 'V_minute': False, 'V_confidential': False, 'V_quarter': False, 'V_occur': False, 'V_understood': False, 'V_advised': False, 'V_billion': False, 'V_art': False, 'V_store': False, 'V_description': False, 'V_est': False, 'V_reinhardt': False, 'V_executive': False, 'V_responsibilities': False, 'V_communication': False, 'V_reporting': False, 'V_opportunity': False, 'V_game': False, 'V_lamphier': False, 'V_paying': False, 'V_focus': False, 'V_somehow': False, 'V_analyst': False, 'V_corrected': False, 'V_mcf': False, 'V_chad': False, 'V_cross': False, 'V_demand': False, 'V_270': False, 'V_primary': False, 'V_802': False, 'V_input': False, 'V_competitive': False, 'V_compaq': False, 'V_toshiba': False, 'V_logos': False, 'V_trademarks': False, 'V_apply': False, 'V_behalf': False, 'V_percent': False, 'V_resolve': False, 'V_calpine': False, 'V_cards': False, 'V_remain': False, 'V_solutions': False, 'V_average': False, 'V_though': False, 'V_affordable': False, 'V_ambien': False, 'V_almost': False, 'V_parker': False, 'V_closed': False, 'V_historical': False, 'V_materially': False, 'V_factors': False, 'V_seek': False, 'V_looks': False, 'V_claims': False, 'V_thousands': False, 'V_pgev': False, 'V_conversation': False, 'V_artprice': False, 'V_yours': False, 'V_stretch': False, 'V_beck': False, 'V_180': False, 'V_similar': False, 'V_individual': False, 'V_pre': False, 'V_karen': False, 'V_41500': False, 'V_edit': False, 'V_unique': False, 'V_room': False, 'V_manual': False, 'V_shop': False, 'V_excess': False, 'V_carry': False, 'V_enhancements': False, 'V_pick': False, 'V_lower': False, 'V_god': False, 'V_charset': False, 'V_baumbach': False, 'V_split': False, 'V_promotion': False, 'V_249': False, 'V_added': False, 'V_waste': False, 'V_event': False, 'V_opinion': False, 'V_humble': False, 'V_viewsonic': False, 'V_sony': False, 'V_resellers': False, 'V_gotten': False, 'V_iii': False, 'V_started': False, 'V_reduce': False, 'V_apr': False, 'V_techlite': False, 'V_expatriate': False, 'V_standard': False, 'V_gulf': False, 'V_light': False, 'V_gets': False, 'V_contents': False, 'V_accuracy': False, 'V_pressure': False, 'V_tabs': False, 'V_0600': False, 'V_record': False, 'V_tried': False, 'V_pipes': False, 'V_victoria': False, 'V_names': False, 'V_myself': False, 'V_consultation': False, 'V_facts': False, 'V_representative': False, 'V_inherent': False, 'V_reliable': False, 'V_hundred': False, 'V_silver': False, 'V_brennan': False, 'V_physical': False, 'V_netherlands': False, 'V_sheri': False, 'V_match': False, 'V_kathryn': False, 'V_higher': False, 'V_range': False, 'V_glover': False, 'V_stephen': False, 'V_responsible': False, 'V_norton': False, 'V_wells': False, 'V_neal': False, 'V_maybe': False, 'V_measurement': False, 'V_package': False, 'V_bottom': False, 'V_multi': False, 'V_levitra': False, 'V_asking': False, 'V_self': False, 'V_external': False, 'V_epson': False, 'V_paragraph': False, 'V_benefit': False, 'V_statement': False, 'V_availabilities': False, 'V_island': False, 'V_1200': False, 'V_common': False, 'V_min': False, 'V_anywhere': False, 'V_item': False, 'V_tools': False, 'V_accept': False, 'V_seen': False, 'V_actually': False, 'V_anticipated': False, 'V_projects': False, 'V_fully': False, 'V_none': False, 'V_advisor': False, 'V_conflict': False, 'V_africa': False, 'V_leader': False, 'V_holiday': False, 'V_annual': False, 'V_operation': False, 'V_cartwheel': False, 'V_result': False, 'V_controls': False, 'V_appear': False, 'V_nor': False, 'V_baxter': False, 'V_users': False, 'V_groups': False, 'V_alone': False, 'V_jackson': False, 'V_552': False, 'V_deliver': False, 'V_warning': False, 'V_eiben': False, 'V_makes': False, 'V_tap': False, 'V_near': False, 'V_cart': False, 'V_spacer': False, 'V_pics': False, 'V_concerns': False, 'V_club': False, 'V_providing': False, 'V_investments': False, 'V_gap': False, 'V_memo': False, 'V_hewlett': False, 'V_cisco': False, 'V_robotics': False, 'V_8834464': False, 'V_8834454': False, 'V_jebel': False, 'V_legislation': False, 'V_4176': False, 'V_1618': False, 'V_congress': False, 'V_worked': False, 'V_extra': False, 'V_driver': False, 'V_shari': False, 'V_selling': False, 'V_reliant': False, 'V_advance': False, 'V_sending': False, 'V_motor': False, 'V_wed': False, 'V_responsibility': False, 'V_earlier': False, 'V_san': False, 'V_sunday': False, 'V_effect': False, 'V_mckay': False, 'V_evening': False, 'V_saturday': False, 'V_expects': False, 'V_229': False, 'V_designed': False, 'V_forms': False, 'V_sleep': False, 'V_sites': False, 'V_remaining': False, 'V_cpr': False, 'V_option': False, 'V_inches': False, 'V_profit': False, 'V_1934': False, 'V_discussions': False, 'V_cap': False, 'V_solicitation': False, 'V_diligence': False, 'V_pleased': False, 'V_videos': False, 'V_variance': False, 'V_morgan': False, 'V_operational': False, 'V_owned': False, 'V_association': False, 'V_doctors': False, 'V_deposit': False, 'V_expenses': False, 'V_successful': False, 'V_analysis': False, 'V_committed': False, 'V_blank': False, 'V_red': False, 'V_venturatos': False, 'V_advantage': False, 'V_itself': False, 'V_hour': False, 'V_far': False, 'V_children': False, 'V_tech': False, 'V_atleast': False, 'V_edmondson': False, 'V_distributorjebel': False, 'V_enquiries': False, 'V_dealers': False, 'V_packard': False, 'V_iomega': False, 'V_aopen': False, 'V_apc': False, 'V_intellinet': False, 'V_targus': False, 'V_complaints': False, 'V_customerservice': False, 'V_speculative': False, 'V_speed': False, 'V_facilities': False, 'V_lyondell': False, 'V_ffffffstrongfont': False, 'V_west': False, 'V_counterparties': False, 'V_ones': False, 'V_ideas': False, 'V_agreed': False, 'V_offshore': False, 'V_telephone': False, 'V_pictures': False, 'V_smart': False, 'V_advanced': False, 'V_house': False, 'V_finally': False, 'V_exercise': False, 'V_september': False, 'V_throughout': False, 'V_star': False, 'V_agree': False, 'V_objectives': False, 'V_filings': False, 'V_sources': False, 'V_award': False, 'V_ref': False, 'V_mortgage': False, 'V_internal': False, 'V_sun': False, 'V_purpose': False, 'V_mtbe': False, 'V_512': False, 'V_kyle': False, 'V_single': False, 'V_lists': False, 'V_couple': False, 'V_lead': False, 'V_ext': False, 'V_illustrator': False, 'V_chase': False, 'V_pool': False, 'V_land': False, 'V_against': False, 'V_proposal': False, 'V_bryce': False, 'V_tommy': False, 'V_discovered': False, 'V_cal': False, 'V_luck': False, 'V_concern': False, 'V_anytime': False, 'V_kristin': False, 'V_gay': False, 'V_benefits': False, 'V_bammel': False, 'V_jill': False, 'V_attend': False, 'V_significant': False, 'V_jones': False, 'V_additionally': False, 'V_purchased': False, 'V_clean': False, 'V_conversion': False, 'V_nigeria': False, 'V_vlagra': False, 'V_pathing': False, 'V_superior': False, 'V_night': False, 'V_tape': False, 'V_conference': False, 'V_commission': False, 'V_procedure': False, 'V_regalis': False, 'V_indianapolis': False, 'V_bingo': False, 'V_nascar': False, 'V_rock': False, 'V_dudley': False, 'V_talking': False, 'V_discreet': False, 'V_majeure': False, 'V_previously': False, 'V_notification': False, 'V_six': False, 'V_9643': False, 'V_assumptions': False, 'V_represent': False, 'V_contained': False, 'V_finance': False, 'V_among': False, 'V_156071': False, 'V_anxiety': False, 'V_urgent': False, 'V_situation': False, 'V_critical': False, 'V_zyban': False, 'V_rather': False, 'V_pleasure': False, 'V_street': False, 'V_death': False, 'V_mine': False, 'V_individuals': False, 'V_whether': False, 'V_fix': False, 'V_step': False, 'V_extended': False, 'V_american': False, 'V_700': False, 'V_550': False, 'V_fontbr': False, 'V_standards': False, 'V_monitor': False, 'V_extensive': False, 'V_agenda': False, 'V_voip': False, 'V_privacy': False, 'V_setting': False, 'V_iso': False, 'V_mean': False, 'V_mips': False, 'V_emotional': False, 'V_kin': False, 'V_interface': False, 'V_uae': False, 'V_quantities': False, 'V_properties': False, 'V_easttexas': False, 'V_cass': False, 'V_compendia': False, 'V_existing': False, 'V_correction': False, 'V_986315': False, 'V_locations': False, 'V_720': False, 'V_test': False, 'V_adipren': False, 'V_particular': False, 'V_utilities': False, 'V_southern': False, 'V_txu': False, 'V_sheet': False, 'V_sutton': False, 'V_heard': False, 'V_programs': False, 'V_fda': False, 'V_degree': False, 'V_expensive': False, 'V_201': False, 'V_hate': False, 'V_positive': False, 'V_consider': False, 'V_goals': False, 'V_parties': False, 'V_releases': False, 'V_coordinate': False, 'V_fun': False, 'V_official': False, 'V_load': False, 'V_stranger': False, 'V_chairman': False, 'V_rule': False, 'V_notified': False, 'V_met': False, 'V_dan': False, 'V_lines': False, 'V_setup': False, 'V_sat': False, 'V_baby': False, 'V_saw': False, 'V_choice': False, 'V_document': False, 'V_column': False, 'V_port': False, 'V_player': False, 'V_expired': False, 'V_charges': False, 'V_hundreds': False, 'V_located': False, 'V_proletariat': False, 'V_heinrich': False, 'V_albrecht': False, 'V_cordes': False, 'V_connevey': False, 'V_priced': False, 'V_determine': False, 'V_bronco': False, 'V_explore': False, 'V_schedulers': False, 'V_weather': False, 'V_clem': False, 'V_campaign': False, 'V_meetings': False, 'V_lost': False, 'V_unresolved': False, 'V_except': False, 'V_zonedubai': False, 'V_emirates': False, 'V_aeor': False, 'V_sordo': False, 'V_confidence': False, 'V_paypal': False, 'V_education': False, 'V_torch': False, 'V_61700': False, 'V_equipment': False, 'V_consent': False, 'V_transco': False, 'V_controller': False, 'V_certificates': False, 'V_dose': False, 'V_alternative': False, 'V_meridia': False, 'V_joanie': False, 'V_0200': False, 'V_treatment': False, 'V_sir': False, 'V_shoreline': False, 'V_earl': False, 'V_mailto': False, 'V_august': False, 'V_charged': False, 'V_woman': False, 'V_assigned': False, 'V_whatever': False, 'V_human': False, 'V_difference': False, 'V_lon': False, 'V_revisions': False, 'V_smi': False, 'V_revenues': False, 'V_construed': False, 'V_herein': False, 'V_assurance': False, 'V_gathered': False, 'V_premium': False, 'V_australia': False, 'V_reasons': False, 'V_returned': False, 'V_terry': False, 'V_arial': False, 'V_son': False, 'V_trader': False, 'V_lottery': False, 'V_serial': False, 'V_btu': False, 'V_unless': False, 'V_wholesale': False, 'V_addressed': False, 'V_maximum': False, 'V_collection': False, 'V_anderson': False, 'V_eight': False, 'V_obtain': False, 'V_detail': False, 'V_especially': False, 'V_outside': False, 'V_immediate': False, 'V_summary': False, 'V_purchasing': False, 'V_reserves': False, 'V_workshop': False, 'V_stuff': False, 'V_otc': False, 'V_serve': False, 'V_cognitive': False, 'V_extremely': False, 'V_identify': False, 'V_todd': False, 'V_hall': False, 'V_shopping': False, 'V_rewards': False, 'V_6296': False, 'V_ram': False, 'V_reached': False, 'V_oss': False, 'V_softwares': False, 'V_changing': False, 'V_symbol': False, 'V_licensed': False, 'V_und': False, 'V_peggy': False, 'V_154': False, 'V_biosphere': False, 'V_units': False, 'V_opinions': False, 'V_utility': False, 'V_holding': False, 'V_notebook': False, 'V_speckels': False, 'V_tracking': False, 'V_delta': False, 'V_nommensen': False, 'V_catherine': False, 'V_kenton': False, 'V_calgary': False, 'V_plug': False, 'V_dcenterfont': False, 'V_miningnews': False, 'V_speedway': False, 'V_collect': False, 'V_vioxx': False, 'V_hand': False, 'V_generated': False, 'V_oct': False, 'V_964': False, 'V_erections': False, 'V_tue': False, 'V_dow': False, 'V_river': False, 'V_appears': False, 'V_ebay': False, 'V_manage': False, 'V_word': False, 'V_tool': False, 'V_visual': False, 'V_medium': False, 'V_models': False, 'V_vegas': False, 'V_riley': False, 'V_valuable': False, 'V_saloonkeep': False, 'V_contain': False, 'V_approval': False, 'V_avails': False, 'V_pvr': False, 'V_detailed': False, 'V_deciding': False, 'V_1520': False, 'V_coastal': False, 'V_craig': False, 'V_participate': False, 'V_enrononline': False, 'V_hopefully': False, 'V_english': False, 'V_vous': False, 'V_assume': False, 'V_grow': False, 'V_estimated': False, 'V_fri': False, 'V_accurate': False, 'V_cheapest': False, 'V_confidentiality': False, 'V_brown': False, 'V_sean': False, 'V_kept': False, 'V_assured': False, 'V_across': False, 'V_cat': False, 'V_war': False, 'V_law': False, 'V_harrison': False, 'V_max': False, 'V_gregory': False, 'V_cynthia': False, 'V_hit': False, 'V_thinks': False, 'V_informed': False, 'V_dent': False, 'V_davis': False, 'V_phillips': False, 'V_beman': False, 'V_reviewers': False, 'V_taxes': False, 'V_selection': False, 'V_building': False, 'V_eog': False, 'V_tetco': False, 'V_160': False, 'V_traded': False, 'V_tee': False, 'V_iwon': False, 'V_forecast': False, 'V_example': False, 'V_250': False, 'V_announce': False, 'V_superb': False, 'V_platform': False, 'V_died': False, 'V_venture': False, 'V_prescriptions': False, 'V_adipex': False, 'V_299': False, 'V_tramadol': False, 'V_patch': False, 'V_swamp': False, 'V_rally': False, 'V_explode': False, 'V_cherry': False, 'V_001': False, 'V_written': False, 'V_bulk': False, 'V_heart': False, 'V_reflects': False, 'V_buoy': False, 'V_dreyfuss': False, 'V_dianne': False, 'V_joint': False, 'V_metabole': False, 'V_bridgeline': False, 'V_protection': False, 'V_organizational': False, 'V_bramble': False, 'V_compartment': False, 'V_seasonal': False, 'V_kenny': False, 'V_eliminate': False, 'V_prove': False, 'V_nax': False, 'V_praxair': False, 'V_draft': False, 'V_buying': False, 'V_players': False, 'V_sap': False, 'V_channels': False, 'V_auction': False, 'V_opt': False, 'V_rom': False, 'V_accessories': False, 'V_camera': False, 'V_environment': False, 'V_thruway': False, 'V_fortune': False, 'V_leading': False, 'V_weekly': False, 'V_spoke': False, 'V_master': False, 'V_okay': False, 'V_6722': False, 'V_61000': False, 'V_330': False, 'V_enlargement': False, 'V_johnson': False, 'V_pharmaceutical': False, 'V_750': False, 'V_administration': False, 'V_largest': False, 'V_pertaining': False, 'V_twenty': False, 'V_resulting': False, 'V_compensation': False, 'V_bias': False, 'V_269': False, 'V_protocol': False, 'V_double': False, 'V_martin': False, 'V_bar': False, 'V_missed': False, 'V_dana': False, 'V_ellis': False, 'V_worksheet': False, 'V_pretty': False, 'V_vice': False, 'V_chief': False, 'V_spent': False, 'V_128': False, 'V_validation': False, 'V_villarreal': False, 'V_greater': False, 'V_mutual': False, 'V_premiere': False, 'V_behind': False, 'V_zimbabwe': False, 'V_columbiagas': False, 'V_requests': False, 'V_language': False, 'V_comments': False, 'V_elizabeth': False, 'V_swift': False, 'V_checked': False, 'V_8018': False, 'V_screen': False, 'V_chandelier': False, 'V_cannon': False, 'V_cavern': False, 'V_quasar': False, 'V_engel': False, 'V_9676': False, 'V_paul': False, 'V_pull': False, 'V_lasts': False, 'V_cloudburst': False, 'V_purposes': False, 'V_wrong': False, 'V_round': False, 'V_idea': False, 'V_senior': False, 'V_announced': False, 'V_equity': False, 'V_board': False, 'V_strongly': False, 'V_networks': False, 'V_bold': False, 'V_register': False, 'V_biochemic': False, 'V_beneficiary': False, 'V_hydrocodone': False, 'V_289': False, 'V_349': False, 'V_paxil': False, 'V_huntley': False, 'V_burdock': False, 'V_appetite': False, 'V_dieting': False, 'V_godparent': False, 'V_transferred': False, 'V_asset': False, 'V_loudspeaker': False, 'V_strangers': False, 'V_combination': False, 'V_015': False, 'V_profound': False, 'V_broomcorn': False, 'V_schneider': False, 'V_rhonda': False, 'V_caribbean': False, 'V_approx': False, 'V_8859': False, 'V_respecter': False, 'V_rental': False, 'V_calendar': False, 'V_generation': False, 'V_gallantry': False, 'V_boatload': False, 'V_adapter': False, 'V_facility': False, 'V_continuo': False, 'V_fletcher': False, 'V_089': False, 'V_notebooks': False, 'V_triple': False, 'V_canopy': False, 'V_mason': False, 'V_cyclist': False, 'V_appall': False, 'V_cryptogram': False, 'V_dcenter': False, 'V_crankcase': False, 'V_roxanne': False, 'V_baseboard': False, 'V_afloat': False, 'V_demagnify': False, 'V_silicon': False, 'V_lis': False, 'V_transmission': False, 'V_hanson': False, 'V_5555': False, 'V_felipe': False, 'V_77056': False, 'V_9434': False, 'V_creek': False, 'V_drug': False, 'V_guide': False, 'V_offered': False, 'V_inside': False, 'V_banking': False, 'V_buyer': False, 'V_vintage': False, 'V_manufacturer': False, 'V_coupon': False, 'V_degeneracy': False, 'V_exciting': False, 'V_approve': False, 'V_automatically': False, 'V_discrete': False, 'V_maintenance': False, 'V_twit': False, 'V_owe': False, 'V_easily': False, 'V_predictions': False, 'V_indicating': False, 'V_documentation': False, 'V_europe': False, 'V_sever': False, 'V_unchristian': False, 'V_159': False, 'V_169': False, 'V_williams': False, 'V_rich': False, 'V_mclarney': False, 'V_entity': False, 'V_commodity': False, 'V_lack': False, 'V_rules': False, 'V_roll': False, 'V_ots': False, 'V_planning': False, 'V_levels': False, 'V_proper': False, 'V_seems': False, 'V_genuine': False, 'V_aid': False, 'V_5000': False, 'V_connection': False, 'V_debacle': False, 'V_living': False, 'V_opportunities': False, 'V_conditions': False, 'V_mailings': False, 'V_diane': False, 'V_window': False, 'V_org': False, 'V_moscoso': False, 'V_pleus': False, 'V_schwarz': False, 'V_heather': False, 'V_classes': False, 'V_accountant': False, 'V_gatekeep': False, 'V_terminated': False, 'V_purchases': False, 'V_profiles': False, 'V_buttons': False, 'V_upgrade': False, 'V_computers': False, 'V_realize': False, 'V_trip': False, 'V_picture': False, 'V_358': False, 'V_aug': False, 'V_directors': False, 'V_looked': False, 'V_infrastructure': False, 'V_catalogue': False, 'V_speak': False, 'V_platelet': False, 'V_accordingly': False, 'V_brands': False, 'V_issued': False, 'V_fioricet': False, 'V_statesmen': False, 'V_dovekie': False, 'V_poem': False, 'V_hesse': False, 'V_massive': False, 'V_981225': False, 'V_mesmeric': False, 'V_washbowl': False, 'V_amazing': False, 'V_heretofore': False, 'V_conciliatory': False, 'V_edmund': False, 'V_llc': False, 'V_otherwise': False, 'V_normally': False, 'V_prick': False, 'V_kathy': False, 'V_resource': False, 'V_edi': False, 'V_emma': False, 'V_anger': False, 'V_bender': False, 'V_preliminary': False, 'V_profiled': False, 'V_abhorred': False, 'V_clobber': False, 'V_somewhere': False, 'V_overall': False, 'V_organization': False, 'V_lieutenant': False, 'V_amp': False, 'V_battery': False, 'V_edu': False, 'V_osborn': False, 'V_holly': False, 'V_park': False, 'V_refurb': False, 'V_congratulate': False, 'V_region': False, 'V_biota': False, 'V_dupe': False, 'V_charybdis': False, 'V_steppe': False, 'V_walter': False, 'V_shove': False, 'V_parrot': False, 'V_126': False, 'V_rascal': False, 'V_myrrh': False, 'V_bleed': False, 'V_happenstance': False, 'V_influential': False, 'V_defensive': False, 'V_cottonwood': False, 'V_canaan': False, 'V_nitrate': False, 'V_choral': False, 'V_vandenberg': False, 'V_bamako': False, 'V_enfant': False, 'V_busy': False, 'V_unable': False, 'V_gen': False, 'V_hurry': False, 'V_discounts': False, 'V_contractual': False, 'V_ngo': False, 'V_kristen': False, 'V_acts': False, 'V_anonymous': False, 'V_connie': False, 'V_contacts': False, 'V_files': False, 'V_creating': False, 'V_filter': False, 'V_partners': False, 'V_maintain': False, 'V_erection': False, 'V_contacted': False, 'V_blvd': False, 'V_las': False, 'V_boy': False, 'V_intent': False, 'V_continued': False, 'V_understands': False, 'V_shareholder': False, 'V_timing': False, 'V_happening': False, 'V_indicative': False, 'V_mrs': False, 'V_jeffrey': False, 'V_school': False, 'V_redhead': False, 'V_0000': False, 'V_nominates': False, 'V_factor': False, 'V_function': False, 'V_western': False, 'V_regard': False, 'V_audit': False, 'V_seem': False, 'V_pass': False, 'V_previous': False, 'V_whom': False, 'V_implementation': False, 'V_reside': False, 'V_elsa': False, 'V_tailgate': False, 'V_suggest': False, 'V_pack': False, 'V_killed': False, 'V_lets': False, 'V_gms': False, 'V_respond': False, 'V_dale': False, 'V_wasn': False, 'V_isn': False, 'V_forwarding': False, 'V_associates': False, 'V_qualify': False, 'V_improve': False, 'V_advertisement': False, 'V_pep': False, 'V_853': False, 'V_managers': False, 'V_analysts': False, 'V_frank': False, 'V_sheila': False, 'V_salary': False, 'V_visits': False, 'V_began': False, 'V_variety': False, 'V_tennessee': False, 'V_antivirus': False, 'V_cockcrow': False, 'V_forget': False, 'V_specialist': False, 'V_zeroed': False, 'V_budget': False, 'V_tonight': False, 'V_1155': False, 'V_bonus': False, 'V_horoscope': False, 'V_games': False, 'V_wholly': False, 'V_knowledge': False, 'V_helps': False, 'V_charlie': False, 'V_recap': False, 'V_lone': False, 'V_policy': False, 'V_integrate': False, 'V_debug': False, 'V_areas': False, 'V_tired': False, 'V_ortho': False, 'V_acquisitive': False, 'V_bridegroom': False, 'V_blue': False, 'V_highest': False, 'V_haven': False, 'V_bass': False, 'V_garrison': False, 'V_winfree': False, 'V_scada': False, 'V_6725': False, 'V_mime': False, 'V_dang': False, 'V_briley': False, 'V_spencer': False, 'V_heads': False, 'V_mother': False, 'V_experienced': False, 'V_azimuthal': False, 'V_blood': False, 'V_hgh': False, 'V_euridyce': False, 'V_gecko': False, 'V_pager': False, 'V_watches': False, 'V_fed': False, 'V_gives': False, 'V_replicas': False, 'V_confront': False, 'V_vera': False, 'V_portugal': False, 'V_floor': False, 'V_diamonds': False, 'V_dhttp': False, 'V_banister': False, 'V_ambulate': False, 'V_citgo': False, 'V_nave': False, 'V_skin': False, 'V_boost': False, 'V_amorous': False, 'V_truly': False, 'V_permanent': False, 'V_8740': False, 'V_reserve': False, 'V_buzzing': False, 'V_consemiu': False, 'V_embargoes': False, 'V_furnace': False, 'V_kinesic': False, 'V_ffo': False, 'V_lighting': False, 'V_irremovable': False, 'V_degradation': False, 'V_hayward': False, 'V_dashboard': False, 'V_150': False, 'V_apace': False, 'V_sprang': False, 'V_startle': False, 'V_tampon': False, 'V_confrere': False, 'V_legacy': False, 'V_yea': False, 'V_calculable': False, 'V_durrell': False, 'V_batchelder': False, 'V_cradle': False, 'V_crib': False, 'V_extravaganza': False, 'V_sacrifice': False, 'V_onlook': False, 'V_wink': False, 'V_chummy': False, 'V_scrap': False, 'V_perforate': False, 'V_chalcocite': False, 'V_prosaic': False, 'V_needham': False, 'V_curricular': False, 'V_copper': False, 'V_tufco': True, 'V_agra': False, 'V_eugene': False, 'V_causing': False, 'V_license': False, 'V_secret': False, 'V_countries': False, 'V_nat': False, 'V_tie': False, 'V_submit': False, 'V_built': False, 'V_device': False, 'V_porn': False, 'V_1000': False, 'V_streaming': False, 'V_places': False, 'V_earn': False, 'V_trust': False, 'V_likely': False, 'V_eex': False, 'V_jacqueline': False, 'V_hector': False, 'V_jersey': False, 'V_brbr': False, 'V_exception': False, 'V_willing': False, 'V_warranty': False, 'V_errors': False, 'V_delivers': False, 'V_judge': False, 'V_316': False, 'V_proprietary': False, 'V_anticipates': False, 'V_actions': False, 'V_seven': False, 'V_reliance': False, 'V_raise': False, 'V_factual': False, 'V_acceptance': False, 'V_winners': False, 'V_quote': False, 'V_unfortunately': False, 'V_millions': False, 'V_900': False, 'V_129': False, 'V_accepted': False, 'V_sans': False, 'V_daigle': False, 'V_faye': False, 'V_sylvia': False, 'V_victor': False, 'V_station': False, 'V_forever': False, 'V_119': False, 'V_improvement': False, 'V_knox': False, 'V_capture': False, 'V_personnel': False, 'V_reminder': False, 'V_preparation': False, 'V_lunch': False, 'V_6892': False, 'V_meant': False, 'V_farmers': False, 'V_electronic': False, 'V_colorado': False, 'V_dupont': False, 'V_sort': False, 'V_0500': False, 'V_bear': False, 'V_filled': False, 'V_heavy': False, 'V_concerning': False, 'V_martinez': False, 'V_completely': False, 'V_allowing': False, 'V_emerson': False, 'V_moving': False, 'V_microcap': False, 'V_spend': False, 'V_applicable': False, 'V_comfort': False, 'V_forth': False, 'V_nearly': False, 'V_dedicated': False, 'V_adjustments': False, 'V_engineer': False, 'V_randall': False, 'V_greif': False, 'V_perkins': False, 'V_choate': False, 'V_thompson': False, 'V_represents': False, 'V_96026573': False, 'V_convenient': False, 'V_booked': False, 'V_background': False, 'V_membership': False, 'V_marshall': False, 'V_thompsonville': False, 'V_satisfaction': False, 'V_feature': False, 'V_holidays': False, 'V_seeks': False, 'V_arrow': False, 'V_odd': False, 'V_develop': False, 'V_cove': False, 'V_tournaments': False, 'V_balls': False, 'V_industries': False, 'V_according': False, 'V_keeping': False, 'V_450': False, 'V_monica': False, 'V_difficult': False, 'V_520': False, 'V_6004': False, 'V_hedstrom': False, 'V_quite': False, 'V_220': False, 'V_sirius': False, 'V_moment': False, 'V_189': False, 'V_propecia': False, 'V_smoking': False, 'V_european': False, 'V_undervalued': False, 'V_electricity': False, 'V_prime': False, 'V_walters': False, 'V_encoding': False, 'V_unpathed': False, 'V_verified': False, 'V_october': False, 'V_published': False, 'V_managing': False, 'V_attl': False, 'V_lipitor': False, 'V_dba': False, 'V_desire': False, 'V_ftworth': False, 'V_allows': False, 'V_giving': False, 'V_reallocate': False, 'V_pipelines': False, 'V_gave': False, 'V_broadband': False, 'V_wallis': False, 'V_desks': False, 'V_cholesterol': False, 'V_karie': False, 'V_paths': False, 'V_absence': False, 'V_140': False, 'V_dtomi': False, 'V_551': False, 'V_850': False, 'V_casino': False, 'V_ceo': False, 'V_types': False, 'V_weightloss': False, 'V_gtc': False, 'V_mcmullen': False, 'V_4045': False, 'V_wifi': False, 'V_papers': False, 'V_gisb': False, 'V_southwest': False, 'V_unmetered': False, 'V_becky': False, 'V_views': False, 'V_paso': False, 'V_credential': False, 'V_polemic': False, 'V_invidious': False, 'V_stipulate': False, 'V_earthquake': False, 'V_brendan': False, 'V_togs': False, 'V_quirt': False, 'V_cochrane': False, 'V_thelma': False, 'V_massey': False, 'V_novelty': False, 'V_crania': False, 'V_pluperfect': False, 'V_stumpage': False, 'V_tonk': False, 'V_yokel': False, 'V_theta': False, 'V_mig': False, 'V_pilewort': False, 'V_committeemen': False, 'V_zeroes': False, 'V_hendricks': False, 'V_persistent': False, 'V_sri': False, 'V_denture': False, 'V_polymerase': False, 'V_darpa': False, 'V_roster': False, 'V_val': False, 'V_measure': False, 'V_auto': False, 'V_tongue': False, 'V_mor': False, 'V_revolutionary': False, 'V_discover': False, 'V_books': False, 'V_post': False, 'V_seller': False, 'V_hosting': False, 'V_flynn': False, 'V_advises': False, 'V_study': False, 'V_consumers': False, 'V_affected': False, 'V_girl': False, 'V_maria': False, 'V_mitchell': False, 'V_lock': False, 'V_bottle': False, 'V_ahead': False, 'V_chinese': False, 'V_acquisition': False, 'V_adding': False, 'V_beliefs': False, 'V_foresee': False, 'V_supplies': False, 'V_examples': False, 'V_thorough': False, 'V_relationship': False, 'V_websites': False, 'V_completeness': False, 'V_finding': False, 'V_winning': False, 'V_batch': False, 'V_lucky': False, 'V_congratulations': False, 'V_processed': False, 'V_tara': False, 'V_discrepancies': False, 'V_campos': False, 'V_leslie': False, 'V_owner': False, 'V_magazine': False, 'V_dollar': False, 'V_encourage': False, 'V_developed': False, 'V_male': False, 'V_ground': False, 'V_enhance': False, 'V_61200': False, 'V_chris': False, 'V_reeves': False, 'V_placed': False, 'V_entering': False, 'V_stevens': False, 'V_partnership': False, 'V_decision': False, 'V_yanowski': False, 'V_clay': False, 'V_210': False, 'V_2100': False, 'V_hernandez': False, 'V_palmer': False, 'V_hakemack': False, 'V_deserve': False, 'V_often': False, 'V_148376': False, 'V_charles': False, 'V_series': False, 'V_negative': False, 'V_rusty': False, 'V_dog': False, 'V_eyes': False, 'V_nelson': False, 'V_eugenio': False, 'V_perez': False, 'V_handled': False, 'V_indicated': False, 'V_6719': False, 'V_perform': False, 'V_graphic': False, 'V_till': False, 'V_cotten': False, 'V_economy': False, 'V_minimum': False, 'V_sheets': False, 'V_exceptions': False, 'V_logo': False, 'V_aged': False, 'V_guess': False, 'V_handling': False, 'V_turned': False, 'V_5953': False, 'V_getitbest': False, 'V_7555': False, 'V_qualified': False, 'V_regular': False, 'V_television': False, 'V_expanded': False, 'V_dating': False, 'V_valued': False, 'V_fields': False, 'V_multimedia': False, 'V_restricted': False, 'V_officers': False, 'V_santa': False, 'V_cernosek': False, 'V_601': False, 'V_remains': False, 'V_fear': False, 'V_county': False, 'V_secured': False, 'V_369': False, 'V_incorrect': False, 'V_robinson': False, 'V_positions': False, 'V_vols': False, 'V_valve': False, 'V_client': False, 'V_originally': False, 'V_whose': False, 'V_ads': False, 'V_jake': False, 'V_1998': False, 'V_uses': False, 'V_decisions': False, 'V_609': False, 'V_27049': False, 'V_convenience': False, 'V_5310': False, 'V_nick': False, 'V_although': False, 'V_fresh': False, 'V_memory': False, 'V_hastings': False, 'V_tier': False, 'V_ave': False, 'V_ascii': False, 'V_baseload': False, 'V_blanchard': False, 'V_abdominal': False, 'V_adobbe': False, 'V_strategic': False, 'V_manually': False, 'V_intelligent': False, 'V_destination': False, 'V_pocket': False, 'V_4486': False, 'V_studies': False, 'V_audio': False, 'V_xph': False, 'V_shipment': False, 'V_topics': False, 'V_minerals': False, 'V_practice': False, 'V_billed': False, 'V_romeo': False, 'V_replica': False, 'V_christine': False, 'V_mmcf': False, 'V_istorage': False, 'V_pgp': False, 'V_trivia': False, 'V_cum': False, 'V_surveys': False, 'V_quantity': False, 'V_6343': False, 'V_corpus': False, 'V_chemicals': False, 'V_accomplish': False, 'V_sells': False, 'V_controlled': False, 'V_mon': False, 'V_acquire': False, 'V_affect': False, 'V_mcgee': False, 'V_tisdale': False, 'V_rodney': False, 'V_sometime': False, 'V_graham': False, 'V_photos': False, 'V_stories': False, 'V_florida': False, 'V_photo': False, 'V_lessons': False, 'V_described': False, 'V_developing': False, 'V_environmental': False, 'V_eff': False, 'V_properly': False, 'V_beautiful': False, 'V_dscottl': False, 'V_repairs': False, 'V_nomed': False, 'V_trial': False, 'V_edison': False, 'V_accrual': False, 'V_bone': False, 'V_cwtd': False, 'V_producers': False, 'V_absolutely': False, 'V_strategy': False, 'V_circulation': False, 'V_announcement': False, 'V_participants': False, 'V_strictly': False, 'V_debt': False, 'V_les': False, 'V_clients': False, 'V_expert': False, 'V_pour': False, 'V_sur': False, 'V_payments': False, 'V_barcelona': False, 'V_tips': False, 'V_tdtd': False, 'V_bye': False, 'V_correspondence': False, 'V_westmoreland': False, 'V_facilitate': False, 'V_procedures': False, 'V_couldn': False, 'V_continuing': False, 'V_directed': False, 'V_concerned': False, 'V_continues': False, 'V_complimentary': False, 'V_initially': False, 'V_aren': False, 'V_knows': False, 'V_movie': False, 'V_apple': False, 'V_greatest': False, 'V_coffey': False, 'V_louisiana': False, 'V_eye': False, 'V_hence': False, 'V_honest': False, 'V_bid': False, 'V_committee': False, 'V_allergy': False, 'V_scotty': False, 'V_jefferson': False, 'V_scheduler': False, 'V_thus': False, 'V_postal': False, 'V_phones': False, 'V_pending': False, 'V_condition': False, 'V_lesson': False, 'V_heath': False, 'V_imagine': False, 'V_goal': False, 'V_explain': False, 'V_method': False, 'V_subscription': False, 'V_anbsp': False, 'V_thinking': False, 'V_miss': False, 'V_copies': False, 'V_comic': False, 'V_pagemaker': False, 'V_grand': False, 'V_kingwood': False, 'V_win': False, 'V_atlantis': False, 'V_innovative': False, 'V_protect': False, 'V_unknown': False, 'V_boulevard': False, 'V_nice': False, 'V_packaging': False, 'V_determined': False, 'V_residue': False, 'V_intend': False, 'V_anticipate': False, 'V_northeast': False, 'V_profits': False, 'V_continuous': False, 'V_electrical': False, 'B_0008_mnxv': False, 'B_01405_wffur': False, 'B_0170_1411': False, 'B_0184_bowy': False, 'B_021_0170': False, 'B_03090806_02010207': False, 'B_036474336_transalta': False, 'B_0424040_ftar': False, 'B_064_gtsa': False, 'B_0688_105631': False, 'B_0980805_0980877': False, 'B_0986315_shawnee': False, 'B_0986511_huff': False, 'B_0989708_swyka': False, 'B_102420_udma': False, 'B_104355_104001': False, 'B_1050_ultrium': False, 'B_105630_2933': False, 'B_105632_2675': False, 'B_105633_1638': False, 'B_105634_2664': False, 'B_105638_2939': False, 'B_106269_2940': False, 'B_106290_2663': False, 'B_106292_0688': False, 'B_113858_93779': False, 'B_1147_lousis': False, 'B_1163_1135': False, 'B_1164_1334': False, 'B_11669_kbmu': False, 'B_118_bcf': False, 'B_12278_hnbgd': False, 'B_124972_72047': False, 'B_125827_125828': False, 'B_125828_125899': False, 'B_1260_226': False, 'B_126351_444': False, 'B_126360_6742': False, 'B_1274_1438': False, 'B_128285_2174': False, 'B_13035_9736': False, 'B_131054_131048': False, 'B_134755_251650': False, 'B_135714_976': False, 'B_135842_250703': False, 'B_135895_251619': False, 'B_135931652_thrifty': False, 'B_135958_251624': False, 'B_136286_251357': False, 'B_136287_251394': False, 'B_136880_251212': False, 'B_136933_251129': False, 'B_13746_13035': False, 'B_1375_2532': False, 'B_137868_664': False, 'B_137971_1147': False, 'B_138094_120866': False, 'B_138546_comstock': False, 'B_138578_418': False, 'B_138628_8000': False, 'B_138800_elpaso': False, 'B_142002_251833': False, 'B_143673_251257': False, 'B_1447_bingolineprocessing': False, 'B_144917_251659': False, 'B_144936_250498': False, 'B_145075_251851': False, 'B_1460_456': False, 'B_147092_tiered': False, 'B_148386_jurirne': False, 'B_148415904_146907159': False, 'B_1485_igs': False, 'B_1505_destec': False, 'B_157233_157284': False, 'B_157284_147866': False, 'B_157564_124972': False, 'B_158625_251864': False, 'B_15867384_skrobh': False, 'B_1598_interrogator': False, 'B_1638_105634': False, 'B_163815_251280': False, 'B_164669_250751': False, 'B_164708_251631': False, 'B_166026_157233': False, 'B_166853_166026': False, 'B_168454_250932': False, 'B_1749_1827': False, 'B_17611_loring': False, 'B_1767_clemmons': False, 'B_177_2961': False, 'B_17832_andl': False, 'B_1835_1910': False, 'B_1867_1842': False, 'B_1871_1922': False, 'B_1876_dogs': False, 'B_1877_fragile': False, 'B_1885_1945': False, 'B_1887_1841': False, 'B_1901_1966': False, 'B_1977_1981': False, 'B_19803_2908': False, 'B_203469_xprtung': False, 'B_2073256_aebdb': False, 'B_20738_20787': False, 'B_20783_20738': False, 'B_20787_20123': False, 'B_2086_slkhta': False, 'B_2195_6824': False, 'B_219685_251410': False, 'B_223_6883567435487221': False, 'B_224899_163': False, 'B_2256_7214': False, 'B_226138_250600': False, 'B_226538_251641': False, 'B_226763_250668': False, 'B_227_7660': False, 'B_227727_250893': False, 'B_228568242_nutmeg': False, 'B_2286_pxlsy': False, 'B_229474_blackhawk': False, 'B_229726_conerstone': False, 'B_2350759_2073256': False, 'B_238_3164': False, 'B_241_5744': False, 'B_2416_2910': False, 'B_243_753': False, 'B_2455_2456': False, 'B_24679_coa': False, 'B_252050406_255326837': False, 'B_2527_3537': False, 'B_2532_5952': False, 'B_2578_5767': False, 'B_263_sabepco': False, 'B_2663_105629': False, 'B_2664_105630': False, 'B_2675_105638': False, 'B_2733_2381': False, 'B_274_280083': False, 'B_2799_cay': False, 'B_282_9084': False, 'B_284_2283': False, 'B_2889_2830': False, 'B_293_1789': False, 'B_2930_3470': False, 'B_2933_106292': False, 'B_2939_106269': False, 'B_2940_106290': False, 'B_2955_3185': False, 'B_296_166459': False, 'B_3066_implications': False, 'B_3124_357': False, 'B_3125_3100': False, 'B_31375_63000': False, 'B_3185_sdlt': False, 'B_327430308_sommerfeld': False, 'B_3326_myln': False, 'B_33282_148415904': False, 'B_334_ndwsmkrsvpjlfygao': False, 'B_339_340': False, 'B_346_792': False, 'B_347_1880': False, 'B_3509_3519': False, 'B_3518_dler': False, 'B_3519_3530': False, 'B_3530_3533': False, 'B_3533_6822': False, 'B_3537_7058': False, 'B_355_1174': False, 'B_357_0184': False, 'B_357461850_760844164': False, 'B_3619618_clf': False, 'B_364_9628': False, 'B_370_1866': False, 'B_3719_0357': False, 'B_37405_5213': False, 'B_378232683_15867384': False, 'B_384_gosj': False, 'B_3881_uosda': False, 'B_3903_51645': False, 'B_3906_6615': False, 'B_3909_823': False, 'B_40037_cladophora': False, 'B_4014_3713': False, 'B_402_161541': False, 'B_4022_2350759': False, 'B_403815365_542862889': False, 'B_4056_6480': False, 'B_4062_yqloyfgwtfq': False, 'B_408_1098': False, 'B_4092_51649': False, 'B_40937_bedford': False, 'B_4120_93883': False, 'B_4127_51629': False, 'B_4135576_eaa': False, 'B_414_751': False, 'B_415086_hlu': False, 'B_416501_bvlmhht': False, 'B_4192_6657': False, 'B_4193_8727': False, 'B_4194_8728': False, 'B_4234_frvklspqwhwrcu': False, 'B_4311_bggv': False, 'B_431705_aluminum': False, 'B_434_bqil': False, 'B_44000_nantes': False, 'B_45337672_ybdjdekynhgeebo': False, 'B_467_2636': False, 'B_4721_wadeg': False, 'B_5016_3909': False, 'B_502_9986': False, 'B_506_4006': False, 'B_5086_8061': False, 'B_5095_037': False, 'B_5097_92956': False, 'B_5100_267': False, 'B_52109_789118270': False, 'B_5213_3124': False, 'B_5394_ecobnk': False, 'B_548_4729': False, 'B_550601048_61853530': False, 'B_5519_clarkston': False, 'B_5570_afo': False, 'B_5625_6832': False, 'B_5652_wsllhk': False, 'B_567_vssd': False, 'B_5705_bderm': False, 'B_5741622713_snyotedvxktfkkt': False, 'B_5810_9975': False, 'B_5825_3719': False, 'B_584_3359': False, 'B_58468_2086': False, 'B_58784_4022': False, 'B_59127_104353': False, 'B_594_6562': False, 'B_5969_rneds': False, 'B_6030_6895': False, 'B_605_1804': False, 'B_611_2118': False, 'B_6166_rjugufwwpyygdtrcjx': False, 'B_618_355': False, 'B_61853530_45337672': False, 'B_62163_869279893': False, 'B_6235_66163': False, 'B_6237068_rcmxp': False, 'B_62413_252050406': False, 'B_628_wpl': False, 'B_629_acjab': False, 'B_631_834': False, 'B_6392_93487': False, 'B_641_9321': False, 'B_6427_6848': False, 'B_645_590445': False, 'B_652154358_jopswexfrrq': False, 'B_653_494': False, 'B_659_661': False, 'B_6599_1549': False, 'B_661_2699': False, 'B_66163_xfntdsjtusmfohlgs': False, 'B_6656_4192': False, 'B_6657_4193': False, 'B_6674_459': False, 'B_6707584_snwswutnuc': False, 'B_673_748': False, 'B_6844_2475': False, 'B_6848_9755': False, 'B_69270_romain': False, 'B_69545_825854664': False, 'B_701_kpiuqiapvqvikwtpgy': False, 'B_7058_4776': False, 'B_708_0117': False, 'B_711_4417': False, 'B_7115_6625': False, 'B_713344_acsqqylxwu': False, 'B_716_548': False, 'B_721_8411': False, 'B_7214_2527': False, 'B_7225_kishore': False, 'B_7228_pirrs': False, 'B_725_brnand': False, 'B_73102_8260': False, 'B_7326074_wepukwfhua': False, 'B_734_241': False, 'B_736_lxl': False, 'B_740_897': False, 'B_7450_cima': False, 'B_746_buht': False, 'B_748_2731': False, 'B_751_4651': False, 'B_7543_jocxitsemonioj': False, 'B_7599_75937467': False, 'B_760844164_194543200': False, 'B_76206_csdcgbvuokejisroaqtckf': False, 'B_764_5128': False, 'B_7666_7600': False, 'B_7692_7450': False, 'B_7720_xnwcwsqxf': False, 'B_77388_5746': False, 'B_7753_4092': False, 'B_7754_4096': False, 'B_776_4467': False, 'B_789_2144': False, 'B_789118270_036474336': False, 'B_790_0255': False, 'B_797_5521': False, 'B_8000_valence': False, 'B_8061_6578': False, 'B_808_347': False, 'B_80808_gpk': False, 'B_812_830': False, 'B_816_7871': False, 'B_8177_4570': False, 'B_818_711': False, 'B_825854664_088889774': False, 'B_834_1207': False, 'B_839_0573': False, 'B_84181702881_415086': False, 'B_8602_wangen': False, 'B_862568_00298': False, 'B_868_syoh': False, 'B_869279893_928976257': False, 'B_86976_741': False, 'B_8727_4194': False, 'B_8728_bji': False, 'B_8750_3903': False, 'B_8766_3906': False, 'B_879_dfbe': False, 'B_88576584060122024_652154358': False, 'B_897_8873': False, 'B_8970_sijuko': False, 'B_904_929': False, 'B_90565_85148': False, 'B_90702_iro': False, 'B_9106_bigmac': False, 'B_912_1090': False, 'B_928_flashback': False, 'B_931_0398': False, 'B_9331_31882': False, 'B_93779_138094': False, 'B_9381_1848': False, 'B_9420_reseda': False, 'B_946_776': False, 'B_9489_9100': False, 'B_96006408_96006409': False, 'B_96006409_96006412': False, 'B_963_tads': False, 'B_9634_1474': False, 'B_9708_13746': False, 'B_9712_slewis': False, 'B_9736_2889': False, 'B_9747_901': False, 'B_9787_604': False, 'B_978987_sdfuoisduf': False, 'B_980106_139671': False, 'B_980275_138800': False, 'B_980308_139674': False, 'B_980389_980390': False, 'B_980390_980391': False, 'B_980391_980392': False, 'B_980392_980393': False, 'B_980393_987271': False, 'B_980440_126351': False, 'B_9808_890': False, 'B_98098909_sdf': False, 'B_982677_137858': False, 'B_983082_126336': False, 'B_984179_135714': False, 'B_984286_spindletop': False, 'B_985048_224899': False, 'B_985155_138628': False, 'B_985310_138023': False, 'B_985360_bnp': False, 'B_985502_138342': False, 'B_985853_riser': False, 'B_986015_mider': False, 'B_986063_mokeen': False, 'B_986181_houdman': False, 'B_986188_136185': False, 'B_986347_234218': False, 'B_986411_138665': False, 'B_986480_114514': False, 'B_9865_gtp': False, 'B_986668_pentex': False, 'B_986673_156258': False, 'B_986682_lynes': False, 'B_986686_133308': False, 'B_986731_137156': False, 'B_986735_137971': False, 'B_986751_229726': False, 'B_986840_133125': False, 'B_986845_swierc': False, 'B_986888_126166': False, 'B_986899_104382': False, 'B_987491_138017': False, 'B_9885_cgfsaw': False, 'B_989003_137868': False, 'B_989664_talber': False, 'B_989679_strand': False, 'B_989736_berclair': False, 'B_989737_pickett': False, 'B_989816_5878': False, 'B_989829_247754': False, 'B_989831_243604': False, 'B_aabvmmq_erzegvr': False, 'B_aaer_xchxa': False, 'B_aaiabe_withoutrescription': False, 'B_aaigrcrb_ndkcmojv': False, 'B_aaihmqv_klfjhldm': False, 'B_aamlrg_ujuerkm': False, 'B_aashqcsny_jtrgfoz': False, 'B_aaxrzm_beds': False, 'B_abandon_perk': False, 'B_abby_promenades': False, 'B_abelmosk_bisutun': False, 'B_abelson_levitate': False, 'B_aber_einer': False, 'B_abfan_znrlt': False, 'B_abpzhnpd_vjjnwwoz': False, 'B_abram_tyler': False, 'B_abrupt_divination': False, 'B_abscissa_nibbled': False, 'B_absentminded_volition': False, 'B_abshm_uxqlsh': False, 'B_absoiuteiy_fiying': False, 'B_absorption_jacobean': False, 'B_abtyw_ifpyc': False, 'B_abvcm_ifldaavbbr': False, 'B_abvps_lbfwvzc': False, 'B_academic_braggart': False, 'B_academy_crosshatch': False, 'B_acceptant_reticulum': False, 'B_acclamation_cavemen': False, 'B_accolade_twisted': False, 'B_accompanist_lint': False, 'B_acculturate_venetian': False, 'B_accused_spammingbr': False, 'B_ach_brigens': False, 'B_acknowledgeable_opera': False, 'B_ackuyjpvd_hsdtjketz': False, 'B_acock_engineering': False, 'B_acronym_accelerometer': False, 'B_acronymbronchitis_hadn': False, 'B_acrylic_confute': False, 'B_acsqqylxwu_6237068': False, 'B_actinolite_gmuj': False, 'B_activism_exaggerate': False, 'B_actos_avandia': False, 'B_actresses_malestars': False, 'B_acute_screed': False, 'B_acvbv_sfoxtkvr': False, 'B_acyclovir_famvir': False, 'B_acztffbr_xknszug': False, 'B_adakcz_wfkff': False, 'B_adaptation_aspects': False, 'B_addddds_goiiing': False, 'B_additive_piazza': False, 'B_addressnbsp_australianbsp': False, 'B_adehlcgjik_allhere': False, 'B_adel_melek': False, 'B_adfa_fsu': False, 'B_adfttphh_hofgz': False, 'B_adiabatic_corroboree': False, 'B_adiatec_44000': False, 'B_adivasi_korma': False, 'B_adjacent_milt': False, 'B_adjudications_couvrant': False, 'B_adkaw_izuxztbl': False, 'B_administer_gerhard': False, 'B_administratrix_moresby': False, 'B_admirably_melons': False, 'B_admitters_jellies': False, 'B_adolphus_gambit': False, 'B_adopted_affirmed': False, 'B_adoptive_exclusion': False, 'B_adornments_zomba': False, 'B_adrienne_yarmouth': False, 'B_adrrf_beau': False, 'B_adulate_whisk': False, 'B_adver_tisement': False, 'B_advisable_procedural': False, 'B_advocacy_aden': False, 'B_aeavgwvhr_cvzmigx': False, 'B_aecnuvxnv_fwynwws': False, 'B_aed_cejf': False, 'B_aegis_wildcat': False, 'B_aeli_zugpju': False, 'B_aenax_kdned': False, 'B_aerobic_bulb': False, 'B_aerrwzu_aocgwbqhf': False, 'B_aezzxa_fyhqdl': False, 'B_afcozrxxc_qrxvdiww': False, 'B_afeslb_rvmpd': False, 'B_affable_acknowledgeable': False, 'B_affectate_congressional': False, 'B_affirmatively_dominating': False, 'B_afgkietc_hbfgyhf': False, 'B_afield_investigatory': False, 'B_aflods_xqnxvn': False, 'B_afmzs_xxp': False, 'B_afoul_orr': False, 'B_afresh_bootleg': False}\n"
     ]
    }
   ],
   "source": [
    "# features in document 0\n",
    "print(bigram_featuresets[0][0])"
   ]
  },
  {
   "cell_type": "code",
   "execution_count": 37,
   "id": "aed715ff",
   "metadata": {},
   "outputs": [
    {
     "data": {
      "text/plain": [
       "0.95"
      ]
     },
     "execution_count": 37,
     "metadata": {},
     "output_type": "execute_result"
    }
   ],
   "source": [
    "# train a classifier and report accuracy\n",
    "train_set, test_set = bigram_featuresets[100:], bigram_featuresets[:100]\n",
    "classifier = nltk.NaiveBayesClassifier.train(train_set)\n",
    "nltk.classify.accuracy(classifier, test_set)"
   ]
  },
  {
   "cell_type": "markdown",
   "id": "78b5055d",
   "metadata": {},
   "source": [
    "## POS Tag Featutres"
   ]
  },
  {
   "cell_type": "code",
   "execution_count": 38,
   "id": "cb48a110",
   "metadata": {},
   "outputs": [],
   "source": [
    "# this function takes a document list of words and returns a feature dictionary\n",
    "# it runs the default pos tagger (the Stanford tagger) on the document\n",
    "#   and counts 4 types of pos tags to use as features\n",
    "def POS_features(document, word_features):\n",
    "    document_words = set(document)\n",
    "    tagged_words = nltk.pos_tag(document)\n",
    "    features = {}\n",
    "    for word in word_features:\n",
    "        features['contains({})'.format(word)] = (word in document_words)\n",
    "    numNoun = 0\n",
    "    numVerb = 0\n",
    "    numAdj = 0\n",
    "    numAdverb = 0\n",
    "    for (word, tag) in tagged_words:\n",
    "        if tag.startswith('N'): numNoun += 1\n",
    "        if tag.startswith('V'): numVerb += 1\n",
    "        if tag.startswith('J'): numAdj += 1\n",
    "        if tag.startswith('R'): numAdverb += 1\n",
    "    features['nouns'] = numNoun\n",
    "    features['verbs'] = numVerb\n",
    "    features['adjectives'] = numAdj\n",
    "    features['adverbs'] = numAdverb\n",
    "    return features"
   ]
  },
  {
   "cell_type": "code",
   "execution_count": 39,
   "id": "0761453d",
   "metadata": {},
   "outputs": [
    {
     "name": "stdout",
     "output_type": "stream",
     "text": [
      "3004\n"
     ]
    }
   ],
   "source": [
    "# define feature sets using this function\n",
    "POS_featuresets = [(POS_features(d, word_features), c) for (d, c) in res]\n",
    "# number of features for document 0\n",
    "print(len(POS_featuresets[0][0].keys()))"
   ]
  },
  {
   "cell_type": "code",
   "execution_count": 40,
   "id": "c85a426c",
   "metadata": {},
   "outputs": [
    {
     "name": "stdout",
     "output_type": "stream",
     "text": [
      "(['Subject', ':', 'i', 'put', 'in', '35000', 'for', 'the', 'expected', 'volume', 'for', 'the', 'sale', 'to', 'sds', '/', 'tufco', '.', 'sitara', '276366'], 'ham')\n",
      "num nouns 6\n",
      "num verbs 2\n",
      "num adjectives 2\n",
      "num adverbs 0\n"
     ]
    }
   ],
   "source": [
    "# the first sentence\n",
    "print(res[0])\n",
    "# the pos tag features for this sentence\n",
    "print('num nouns', POS_featuresets[0][0]['nouns'])\n",
    "print('num verbs', POS_featuresets[0][0]['verbs'])\n",
    "print('num adjectives', POS_featuresets[0][0]['adjectives'])\n",
    "print('num adverbs', POS_featuresets[0][0]['adverbs'])\n"
   ]
  },
  {
   "cell_type": "markdown",
   "id": "4a37efaf",
   "metadata": {},
   "source": [
    "## NLTK Naïve Bayes classifier to train and test a classifier "
   ]
  },
  {
   "cell_type": "code",
   "execution_count": 41,
   "id": "73cb097d",
   "metadata": {},
   "outputs": [
    {
     "data": {
      "text/plain": [
       "0.95"
      ]
     },
     "execution_count": 41,
     "metadata": {},
     "output_type": "execute_result"
    }
   ],
   "source": [
    "# train and test the classifier\n",
    "train_set, test_set = POS_featuresets[100:], POS_featuresets[:100]\n",
    "classifier = nltk.NaiveBayesClassifier.train(train_set)\n",
    "nltk.classify.accuracy(classifier, test_set)\n"
   ]
  },
  {
   "cell_type": "markdown",
   "id": "46570172",
   "metadata": {},
   "source": [
    "## Cross Validating"
   ]
  },
  {
   "cell_type": "code",
   "execution_count": 42,
   "id": "f4ed9515",
   "metadata": {},
   "outputs": [],
   "source": [
    "## cross-validation ##\n",
    "# this function takes the number of folds, the feature sets\n",
    "# it iterates over the folds, using different sections for training and testing in turn\n",
    "#   it prints the accuracy for each fold and the average accuracy at the end\n",
    "def cross_validation_accuracy(num_folds, featuresets):\n",
    "    subset_size = int(len(featuresets)/num_folds)\n",
    "    print('Each fold size:', subset_size)\n",
    "    accuracy_list = []\n",
    "    # iterate over the folds\n",
    "    for i in range(num_folds):\n",
    "        test_this_round = featuresets[(i*subset_size):][:subset_size]\n",
    "        train_this_round = featuresets[:(i*subset_size)] + featuresets[((i+1)*subset_size):]\n",
    "        # train using train_this_round\n",
    "        classifier = nltk.NaiveBayesClassifier.train(train_this_round)\n",
    "        # evaluate against test_this_round and save accuracy\n",
    "        accuracy_this_round = nltk.classify.accuracy(classifier, test_this_round)\n",
    "        print (i, accuracy_this_round)\n",
    "        accuracy_list.append(accuracy_this_round)\n",
    "    # find mean accuracy over all rounds\n",
    "    print ('mean accuracy', sum(accuracy_list) / num_folds)"
   ]
  },
  {
   "cell_type": "code",
   "execution_count": 64,
   "id": "c5c6cb5f",
   "metadata": {},
   "outputs": [
    {
     "name": "stdout",
     "output_type": "stream",
     "text": [
      "Each fold size: 400\n",
      "0 0.96\n",
      "1 0.98\n",
      "2 0.96\n",
      "3 0.9675\n",
      "4 0.96\n",
      "mean accuracy 0.9654999999999999\n"
     ]
    }
   ],
   "source": [
    "num_folds = 5\n",
    "cross_validation_accuracy(num_folds, featuresets)"
   ]
  },
  {
   "cell_type": "code",
   "execution_count": 44,
   "id": "ae9fb31f",
   "metadata": {},
   "outputs": [
    {
     "name": "stdout",
     "output_type": "stream",
     "text": [
      "Each fold size: 400\n",
      "0 0.96\n",
      "1 0.98\n",
      "2 0.96\n",
      "3 0.9675\n",
      "4 0.96\n",
      "mean accuracy 0.9654999999999999\n"
     ]
    }
   ],
   "source": [
    "num_folds = 5\n",
    "cross_validation_accuracy(num_folds, bigram_featuresets)"
   ]
  },
  {
   "cell_type": "markdown",
   "id": "b4ed52f6",
   "metadata": {},
   "source": [
    "## Comparing Cross Validation of POS_featuresets"
   ]
  },
  {
   "cell_type": "code",
   "execution_count": 45,
   "id": "c7abc833",
   "metadata": {},
   "outputs": [
    {
     "name": "stdout",
     "output_type": "stream",
     "text": [
      "Each fold size: 400\n",
      "0 0.9575\n",
      "1 0.98\n",
      "2 0.9625\n",
      "3 0.97\n",
      "4 0.9625\n",
      "mean accuracy 0.9665000000000001\n"
     ]
    }
   ],
   "source": [
    "num_folds = 5\n",
    "cross_validation_accuracy(num_folds, POS_featuresets)"
   ]
  },
  {
   "cell_type": "code",
   "execution_count": 46,
   "id": "440ee694",
   "metadata": {},
   "outputs": [
    {
     "name": "stdout",
     "output_type": "stream",
     "text": [
      "Each fold size: 200\n",
      "0 0.96\n",
      "1 0.95\n",
      "2 0.98\n",
      "3 0.98\n",
      "4 0.975\n",
      "5 0.955\n",
      "6 0.98\n",
      "7 0.96\n",
      "8 0.96\n",
      "9 0.96\n",
      "mean accuracy 0.966\n"
     ]
    }
   ],
   "source": [
    "num_folds = 10\n",
    "cross_validation_accuracy(num_folds, POS_featuresets)"
   ]
  },
  {
   "cell_type": "code",
   "execution_count": 47,
   "id": "49d11113",
   "metadata": {},
   "outputs": [],
   "source": [
    "goldlist = []\n",
    "predictedlist = []\n",
    "for (features, label) in test_set:\n",
    "    \tgoldlist.append(label)\n",
    "    \tpredictedlist.append(classifier.classify(features))"
   ]
  },
  {
   "cell_type": "code",
   "execution_count": 49,
   "id": "45410c70",
   "metadata": {},
   "outputs": [
    {
     "name": "stdout",
     "output_type": "stream",
     "text": [
      "['ham', 'spam', 'ham', 'spam', 'spam', 'spam', 'ham', 'ham', 'ham', 'ham', 'spam', 'ham', 'ham', 'ham', 'ham', 'ham', 'spam', 'spam', 'spam', 'spam', 'spam', 'ham', 'ham', 'ham', 'ham', 'spam', 'ham', 'ham', 'spam', 'spam', 'spam', 'spam', 'spam', 'ham', 'spam', 'ham', 'ham', 'ham', 'spam', 'ham', 'ham', 'spam', 'spam', 'spam', 'spam', 'ham', 'spam', 'ham', 'ham', 'ham']\n",
      "['ham', 'ham', 'ham', 'spam', 'spam', 'spam', 'ham', 'ham', 'ham', 'ham', 'spam', 'ham', 'ham', 'ham', 'ham', 'ham', 'spam', 'spam', 'spam', 'spam', 'spam', 'ham', 'ham', 'ham', 'ham', 'spam', 'ham', 'ham', 'spam', 'spam', 'spam', 'spam', 'spam', 'spam', 'spam', 'ham', 'ham', 'ham', 'spam', 'ham', 'ham', 'spam', 'spam', 'spam', 'spam', 'ham', 'spam', 'ham', 'ham', 'ham']\n"
     ]
    }
   ],
   "source": [
    "# look at the first 50 examples\n",
    "print(goldlist[:50])\n",
    "print(predictedlist[:50])"
   ]
  },
  {
   "cell_type": "markdown",
   "id": "f775a923",
   "metadata": {},
   "source": [
    "## Confusion Matrix"
   ]
  },
  {
   "cell_type": "code",
   "execution_count": 50,
   "id": "bea635ae",
   "metadata": {},
   "outputs": [
    {
     "name": "stdout",
     "output_type": "stream",
     "text": [
      "     |     s |\n",
      "     |  h  p |\n",
      "     |  a  a |\n",
      "     |  m  m |\n",
      "-----+-------+\n",
      " ham |<47> 4 |\n",
      "spam |  1<48>|\n",
      "-----+-------+\n",
      "(row = reference; col = test)\n",
      "\n"
     ]
    }
   ],
   "source": [
    "cm = nltk.ConfusionMatrix(goldlist, predictedlist)\n",
    "print(cm.pretty_format(sort_by_count=True, truncate=9))\n"
   ]
  },
  {
   "cell_type": "code",
   "execution_count": 51,
   "id": "001cedae",
   "metadata": {},
   "outputs": [
    {
     "name": "stdout",
     "output_type": "stream",
     "text": [
      "     |             s |\n",
      "     |      h      p |\n",
      "     |      a      a |\n",
      "     |      m      m |\n",
      "-----+---------------+\n",
      " ham | <47.0%>  4.0% |\n",
      "spam |   1.0% <48.0%>|\n",
      "-----+---------------+\n",
      "(row = reference; col = test)\n",
      "\n"
     ]
    }
   ],
   "source": [
    "# or show the results as percentages\n",
    "print(cm.pretty_format(sort_by_count=True, show_percents=True, truncate=9))"
   ]
  },
  {
   "cell_type": "markdown",
   "id": "00a3f6ea",
   "metadata": {},
   "source": [
    "## Precision, Recall and F1 Score"
   ]
  },
  {
   "cell_type": "code",
   "execution_count": 52,
   "id": "66a2a011",
   "metadata": {},
   "outputs": [],
   "source": [
    "# Function to compute precision, recall and F1 for each label\n",
    "#  and for any number of labels\n",
    "# Input: list of gold labels, list of predicted labels (in same order)\n",
    "# Output:  prints precision, recall and F1 for each label\n",
    "def eval_measures(gold, predicted):\n",
    "    # get a list of labels\n",
    "    labels = list(set(gold))\n",
    "    # these lists have values for each label \n",
    "    recall_list = []\n",
    "    precision_list = []\n",
    "    F1_list = []\n",
    "    for lab in labels:\n",
    "        # for each label, compare gold and predicted lists and compute values\n",
    "        TP = FP = FN = TN = 0\n",
    "        for i, val in enumerate(gold):\n",
    "            if val == lab and predicted[i] == lab:  TP += 1\n",
    "            if val == lab and predicted[i] != lab:  FN += 1\n",
    "            if val != lab and predicted[i] == lab:  FP += 1\n",
    "            if val != lab and predicted[i] != lab:  TN += 1\n",
    "        # use these to compute recall, precision, F1\n",
    "        recall = TP / (TP + FP)\n",
    "        precision = TP / (TP + FN)\n",
    "        recall_list.append(recall)\n",
    "        precision_list.append(precision)\n",
    "        F1_list.append( 2 * (recall * precision) / (recall + precision))\n",
    "\n",
    "    # the evaluation measures in a table with one row per label\n",
    "    print('\\tPrecision\\tRecall\\t\\tF1')\n",
    "    # print measures for each label\n",
    "    for i, lab in enumerate(labels):\n",
    "        print(lab, '\\t', \"{:10.3f}\".format(precision_list[i]), \\\n",
    "          \"{:10.3f}\".format(recall_list[i]), \"{:10.3f}\".format(F1_list[i]))"
   ]
  },
  {
   "cell_type": "code",
   "execution_count": 53,
   "id": "7ae23036",
   "metadata": {},
   "outputs": [
    {
     "name": "stdout",
     "output_type": "stream",
     "text": [
      "\tPrecision\tRecall\t\tF1\n",
      "spam \t      0.980      0.923      0.950\n",
      "ham \t      0.922      0.979      0.949\n"
     ]
    }
   ],
   "source": [
    "# call the function with our data\n",
    "eval_measures(goldlist, predictedlist)"
   ]
  },
  {
   "cell_type": "code",
   "execution_count": 54,
   "id": "eb53ceea",
   "metadata": {},
   "outputs": [],
   "source": [
    "from nltk.classify import SklearnClassifier\n",
    "from sklearn.linear_model import LogisticRegression\n",
    "from sklearn.svm import SVC, LinearSVC, NuSVC"
   ]
  },
  {
   "cell_type": "code",
   "execution_count": 55,
   "id": "49c1684c",
   "metadata": {},
   "outputs": [
    {
     "name": "stdout",
     "output_type": "stream",
     "text": [
      "SVC_classifier accuracy percent: 68.0\n"
     ]
    }
   ],
   "source": [
    "#support vector classification\n",
    "SVC_classifier = SklearnClassifier(SVC())\n",
    "SVC_classifier.train(train_set)\n",
    "print(\"SVC_classifier accuracy percent:\", (nltk.classify.accuracy(SVC_classifier, test_set))*100)"
   ]
  },
  {
   "cell_type": "code",
   "execution_count": 56,
   "id": "2b77d62d",
   "metadata": {},
   "outputs": [
    {
     "name": "stderr",
     "output_type": "stream",
     "text": [
      "C:\\Users\\udayv\\anaconda3\\lib\\site-packages\\sklearn\\svm\\_base.py:1244: ConvergenceWarning: Liblinear failed to converge, increase the number of iterations.\n",
      "  warnings.warn(\n"
     ]
    },
    {
     "name": "stdout",
     "output_type": "stream",
     "text": [
      "LinearSVC_classifier accuracy percent: 96.0\n"
     ]
    }
   ],
   "source": [
    "#kernal parameter is set to linear\n",
    "LinearSVC_classifier = SklearnClassifier(LinearSVC())\n",
    "LinearSVC_classifier.train(train_set)\n",
    "print(\"LinearSVC_classifier accuracy percent:\", (nltk.classify.accuracy(LinearSVC_classifier, test_set))*100)"
   ]
  },
  {
   "cell_type": "code",
   "execution_count": 57,
   "id": "f2fa79ec",
   "metadata": {},
   "outputs": [
    {
     "name": "stdout",
     "output_type": "stream",
     "text": [
      "NuSVC_classifier accuracy percent: 91.0\n"
     ]
    }
   ],
   "source": [
    "#SVC with lower and upper bounds for margin error\n",
    "NuSVC_classifier = SklearnClassifier(NuSVC())\n",
    "NuSVC_classifier.train(train_set)\n",
    "print(\"NuSVC_classifier accuracy percent:\", (nltk.classify.accuracy(NuSVC_classifier, test_set))*100)"
   ]
  }
 ],
 "metadata": {
  "kernelspec": {
   "display_name": "Python 3 (ipykernel)",
   "language": "python",
   "name": "python3"
  },
  "language_info": {
   "codemirror_mode": {
    "name": "ipython",
    "version": 3
   },
   "file_extension": ".py",
   "mimetype": "text/x-python",
   "name": "python",
   "nbconvert_exporter": "python",
   "pygments_lexer": "ipython3",
   "version": "3.10.9"
  }
 },
 "nbformat": 4,
 "nbformat_minor": 5
}
